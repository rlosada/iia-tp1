{
 "cells": [
  {
   "cell_type": "markdown",
   "id": "oR9RrOWTS4uC",
   "metadata": {
    "id": "oR9RrOWTS4uC",
    "jp-MarkdownHeadingCollapsed": true
   },
   "source": [
    "# [Trabajo práctico 1 - Torre de Hanoi](https://github.com/spardo83/iaa-tp1)\n",
    "\n",
    "## Integrantes\n",
    "\n",
    "- Gimenez, Pablo Eduardo\n",
    "- Pardo, Sebastián\n",
    "- González, Martín\n",
    "- Brazón, Josmar\n",
    "- Ricky\n",
    "- Meoli, Lucas Pablo\n",
    "\n",
    "## Introducción\n",
    "\n",
    "En este notebook se desarrolla el Trabajo Práctico N.º 1 de la materia Inteligencia Artificial, perteneciente a la Carrera de Especialización en Inteligencia Artificial (CEIA).\n",
    "\n",
    "El trabajo se divide en dos partes: en primer lugar, se implementan distintos algoritmos de búsqueda para resolver el problema de la Torre de Hanoi, utilizando el material provisto como base; y en segundo lugar, se abordan las preguntas teóricas planteadas por la cátedra.\n",
    "\n"
   ]
  },
  {
   "cell_type": "markdown",
   "id": "9dc3793379ee6eb9",
   "metadata": {
    "collapsed": false,
    "id": "9dc3793379ee6eb9",
    "jupyter": {
     "outputs_hidden": false
    }
   },
   "source": [
    "# Algoritmos de búsqueda\n",
    "**Autor: Facundo A. Lucianna - Inteligencia Artificial - CEIA - FIUBA**\n",
    "\n",
    "Un algoritmo de búsqueda toma un problema de búsqueda como entrada y retorna una solución, o una indicación de falla.\n",
    "\n",
    "La idea es buscar un camino que llegue al estado objetivo. Para ello, vamos a construir un árbol que irá avanzando por los estados del grafo hasta llegar al estado objetivo.\n",
    "\n",
    "![arbol_de_hanoi](./img/tree_hanoi.png)\n",
    "\n",
    "Cada nodo del árbol corresponde a un **estado** y las aristas corresponden a una **acción**. Es importante destacar que el árbol **NO** es el grafo de estados. El grafo describe todo el conjunto de estados y las acciones que permiten pasar de un estado a otro. El árbol describe el camino entre estos estados para alcanzar el objetivo.\n",
    "\n",
    "Para poder aplicar los algoritmos, debemos definir las estructuras de datos necesarias para hacer seguimiento del árbol.\n",
    "\n",
    "## Nodos del árbol\n",
    "\n",
    "Los nodos del árbol están representados por los siguientes componentes:\n",
    "\n",
    "- **State**: El estado del espacio de estados que corresponde al nodo.\n",
    "- **Node Parent**: El nodo en el árbol de búsqueda que generó este nodo.\n",
    "- **Action**: La acción que se aplicó al nodo padre para generar este nodo.\n",
    "- **Path-Cost**: El costo de un camino desde el nodo inicial hasta este nodo.\n",
    "\n",
    "Definamos el **Problema** de la Torre de Hanoi:"
   ]
  },
  {
   "cell_type": "code",
   "execution_count": 1,
   "id": "d070f4f5-39ee-4081-85ab-ee2257ecd769",
   "metadata": {
    "ExecuteTime": {
     "end_time": "2025-07-12T19:42:33.807402Z",
     "start_time": "2025-07-12T19:42:33.794376Z"
    },
    "colab": {
     "base_uri": "https://localhost:8080/",
     "height": 378
    },
    "id": "d070f4f5-39ee-4081-85ab-ee2257ecd769",
    "outputId": "00207d39-80ac-4da5-d82d-c0022726fe62"
   },
   "outputs": [],
   "source": [
    "from aima_libs.hanoi_states import ProblemHanoi, StatesHanoi\n",
    "\n",
    "initial_state = StatesHanoi([5, 4, 3, 2, 1], [], [], max_disks=5)\n",
    "goal_state = StatesHanoi([], [], [5, 4, 3, 2, 1], max_disks=5)\n",
    "\n",
    "problem = ProblemHanoi(initial=initial_state, goal=goal_state)"
   ]
  },
  {
   "cell_type": "markdown",
   "id": "b451fae2-72ea-435e-9877-85ff646d4971",
   "metadata": {
    "id": "b451fae2-72ea-435e-9877-85ff646d4971"
   },
   "source": [
    "Empezamos con la primera estructura, que implementamos con la clase `NodeHanoi`. Esta clase tiene implementados los siguientes:\n",
    "\n",
    "**Atributos:**\n",
    "* `state`: El estado que el nodo contiene. Representa un estado particular de ubicación de los discos.\n",
    "* `parent`: Es el nodo padre de este nodo. Si el nodo es la raíz, es `None`.\n",
    "* `action`: La acción que se aplicó al nodo padre para llegar a este nodo. Si es la raíz, es `None`.\n",
    "* `path_cost`: El costo del camino desde la raíz del árbol hasta este nodo.\n",
    "* `depth`: La profundidad del árbol en la que se encuentra el nodo. Si es la raíz, es cero; si es un hijo de la raíz, es igual a 1, y así sucesivamente.\n",
    "\n",
    "**Métodos:**\n",
    "* `child_node()`: Genera un nodo hijo a partir de una acción.\n",
    "* `expand()`: Expande la frontera de este nodo, devolviendo los nodos hijos al aplicar `expand`.\n",
    "* `solution()`: Retorna en una lista la secuencia de acciones que van desde la raíz hasta este nodo.\n",
    "* `path()`: Retorna una lista de nodos que van desde la raíz hasta este nodo.\n",
    "* `generate_solution_for_simulator()`: Este método permite obtener una salida para simular con PyGame. En otro notebook profundizaremos más en este aspecto.\n",
    "\n",
    "Además, tiene implementados métodos que nos permiten hacer diferentes operaciones en Python:\n",
    "\n",
    "* Podemos comparar dos nodos para ver si son iguales (haciendo `node1 == node2`)\n",
    "* Podemos preguntar si un nodo es mayor que otro (haciendo `node1 > node2`), lo que significa si el costo acumulado de un nodo es mayor que otro.\n",
    "* Tenemos una representación en cadena del estado, por lo que cuando hacemos `print()` se observa el estado dentro del nodo con el texto `<Node >`.\n",
    "* También podemos obtener un hash del estado con `hash(estado)`\n"
   ]
  },
  {
   "cell_type": "code",
   "execution_count": 2,
   "id": "a17e3bdb45589007",
   "metadata": {
    "ExecuteTime": {
     "end_time": "2025-07-12T19:42:33.838781Z",
     "start_time": "2025-07-12T19:42:33.831594Z"
    },
    "collapsed": false,
    "id": "a17e3bdb45589007",
    "jupyter": {
     "outputs_hidden": false
    }
   },
   "outputs": [],
   "source": [
    "from aima_libs.tree_hanoi import NodeHanoi"
   ]
  },
  {
   "cell_type": "code",
   "execution_count": 3,
   "id": "22167519c1c30b62",
   "metadata": {
    "ExecuteTime": {
     "end_time": "2025-07-12T19:42:33.869637Z",
     "start_time": "2025-07-12T19:42:33.863913Z"
    },
    "collapsed": false,
    "id": "22167519c1c30b62",
    "jupyter": {
     "outputs_hidden": false
    }
   },
   "outputs": [],
   "source": [
    "# Definimos la raíz del árbol\n",
    "root = NodeHanoi(state=initial_state)"
   ]
  },
  {
   "cell_type": "code",
   "execution_count": 4,
   "id": "26a442406bd09a4e",
   "metadata": {
    "ExecuteTime": {
     "end_time": "2025-07-12T19:42:33.884633Z",
     "start_time": "2025-07-12T19:42:33.878793Z"
    },
    "collapsed": false,
    "id": "26a442406bd09a4e",
    "jupyter": {
     "outputs_hidden": false
    }
   },
   "outputs": [
    {
     "name": "stdout",
     "output_type": "stream",
     "text": [
      "El arbol tiene como raíz a:\n",
      "<Node HanoiState: 5 4 3 2 1 |  | >\n"
     ]
    }
   ],
   "source": [
    "print(\"El arbol tiene como raíz a:\")\n",
    "print(root)"
   ]
  },
  {
   "cell_type": "markdown",
   "id": "4816a67f49f8927f",
   "metadata": {
    "collapsed": false,
    "id": "4816a67f49f8927f",
    "jupyter": {
     "outputs_hidden": false
    }
   },
   "source": [
    "Desde un nodo y con el problema definido, podemos encontrar la frontera, que es la separación entre el grafo que ya ha sido explorado por el algoritmo de búsqueda y aquel que aún no ha sido explorado.\n",
    "\n",
    "![frontera_en_arbol_de_hanoi](./img/tree_hanoi_frontier.png)"
   ]
  },
  {
   "cell_type": "markdown",
   "id": "fc1d4f99-f653-4fbe-80ea-a3c007df63bb",
   "metadata": {
    "id": "fc1d4f99-f653-4fbe-80ea-a3c007df63bb"
   },
   "source": [
    "### Expandir la frontera del nodo raíz\n",
    "\n",
    "Expandimos la frontera del nodo raíz:\n"
   ]
  },
  {
   "cell_type": "code",
   "execution_count": 5,
   "id": "af623a7d186af4ee",
   "metadata": {
    "ExecuteTime": {
     "end_time": "2025-07-12T19:42:33.919299Z",
     "start_time": "2025-07-12T19:42:33.911145Z"
    },
    "collapsed": false,
    "id": "af623a7d186af4ee",
    "jupyter": {
     "outputs_hidden": false
    }
   },
   "outputs": [],
   "source": [
    "lista_nodos_fronteras = root.expand(problem=problem)"
   ]
  },
  {
   "cell_type": "code",
   "execution_count": 6,
   "id": "c4c2c98172667f2c",
   "metadata": {
    "ExecuteTime": {
     "end_time": "2025-07-12T19:42:33.943010Z",
     "start_time": "2025-07-12T19:42:33.939699Z"
    },
    "collapsed": false,
    "id": "c4c2c98172667f2c",
    "jupyter": {
     "outputs_hidden": false
    }
   },
   "outputs": [
    {
     "name": "stdout",
     "output_type": "stream",
     "text": [
      "<Node HanoiState: 5 4 3 2 | 1 | >\n",
      "<Node HanoiState: 5 4 3 2 |  | 1>\n"
     ]
    }
   ],
   "source": [
    "for nodos in lista_nodos_fronteras:\n",
    "    print(nodos)"
   ]
  },
  {
   "cell_type": "markdown",
   "id": "40b78a77-9cfb-4499-ab0e-23763c7315e4",
   "metadata": {
    "id": "40b78a77-9cfb-4499-ab0e-23763c7315e4"
   },
   "source": [
    "Los estados que corresponden a estos nuevos nodos son:\n",
    "\n",
    "![state](./img/state_hanoi5.png)\n",
    "\n",
    "Por lo tanto, el árbol para este problema se verá así:\n",
    "\n",
    "![tree](./img/tree_hanoi2.png)\n",
    "\n",
    "Es decir, se generan dos nodos nuevos con los siguientes estados:\n",
    "\n",
    "- El disco verde (el más pequeño) se mueve a la varilla del medio.\n",
    "- El disco verde (el más pequeño) se mueve a la varilla derecha.\n",
    "\n",
    "Quedémonos con el nodo cuyo estado tiene el disco verde en la varilla del medio:"
   ]
  },
  {
   "cell_type": "code",
   "execution_count": 7,
   "id": "d79462be-6c3f-4730-9207-3ffe6faa5318",
   "metadata": {
    "ExecuteTime": {
     "end_time": "2025-07-12T19:42:33.985068Z",
     "start_time": "2025-07-12T19:42:33.983134Z"
    },
    "id": "d79462be-6c3f-4730-9207-3ffe6faa5318"
   },
   "outputs": [],
   "source": [
    "next_node = lista_nodos_fronteras[0]"
   ]
  },
  {
   "cell_type": "markdown",
   "id": "119af43e-8177-49fb-8ec4-ae8490bf50d7",
   "metadata": {
    "id": "119af43e-8177-49fb-8ec4-ae8490bf50d7"
   },
   "source": [
    "Ahora, veamos su estado:\n",
    "\n",
    "---\n",
    "\n"
   ]
  },
  {
   "cell_type": "code",
   "execution_count": 8,
   "id": "74201cb6-b3f2-4e7d-b0a2-506886527ccf",
   "metadata": {
    "ExecuteTime": {
     "end_time": "2025-07-12T19:42:34.007472Z",
     "start_time": "2025-07-12T19:42:34.001883Z"
    },
    "id": "74201cb6-b3f2-4e7d-b0a2-506886527ccf"
   },
   "outputs": [
    {
     "data": {
      "text/plain": [
       "HanoiState: 5 4 3 2 | 1 | "
      ]
     },
     "execution_count": 8,
     "metadata": {},
     "output_type": "execute_result"
    }
   ],
   "source": [
    "next_node.state"
   ]
  },
  {
   "cell_type": "markdown",
   "id": "fb8af624-8d7e-4d7b-a4f7-b3f643a35d4c",
   "metadata": {
    "id": "fb8af624-8d7e-4d7b-a4f7-b3f643a35d4c"
   },
   "source": [
    "Vemos quién es el padre, que debería ser la raíz:\n",
    "\n",
    "\n",
    "\n"
   ]
  },
  {
   "cell_type": "code",
   "execution_count": 9,
   "id": "97af5e9c-9a02-4388-8a2d-be8fcafc56f7",
   "metadata": {
    "ExecuteTime": {
     "end_time": "2025-07-12T19:42:34.027823Z",
     "start_time": "2025-07-12T19:42:34.024823Z"
    },
    "id": "97af5e9c-9a02-4388-8a2d-be8fcafc56f7"
   },
   "outputs": [
    {
     "data": {
      "text/plain": [
       "<Node HanoiState: 5 4 3 2 1 |  | >"
      ]
     },
     "execution_count": 9,
     "metadata": {},
     "output_type": "execute_result"
    }
   ],
   "source": [
    "next_node.parent"
   ]
  },
  {
   "cell_type": "markdown",
   "id": "cd3e4ea4-5e8a-4ce5-a755-4f0139d30049",
   "metadata": {
    "id": "cd3e4ea4-5e8a-4ce5-a755-4f0139d30049"
   },
   "source": [
    "El costo acumulado desde la raíz hasta este nodo es:"
   ]
  },
  {
   "cell_type": "code",
   "execution_count": 10,
   "id": "07bb08e5-fbee-4a81-bee9-9da0af93bc7c",
   "metadata": {
    "ExecuteTime": {
     "end_time": "2025-07-12T19:42:34.064716Z",
     "start_time": "2025-07-12T19:42:34.061842Z"
    },
    "id": "07bb08e5-fbee-4a81-bee9-9da0af93bc7c"
   },
   "outputs": [
    {
     "data": {
      "text/plain": [
       "1.0"
      ]
     },
     "execution_count": 10,
     "metadata": {},
     "output_type": "execute_result"
    }
   ],
   "source": [
    "next_node.path_cost"
   ]
  },
  {
   "cell_type": "markdown",
   "id": "7850f49d-b9c0-4241-bcd3-b5f89cc12f33",
   "metadata": {
    "id": "7850f49d-b9c0-4241-bcd3-b5f89cc12f33"
   },
   "source": [
    "Y la profundidad en la que nos encontramos en el árbol:"
   ]
  },
  {
   "cell_type": "code",
   "execution_count": 11,
   "id": "0720fd3d-00bf-4792-9e59-404065610016",
   "metadata": {
    "ExecuteTime": {
     "end_time": "2025-07-12T19:42:34.104982Z",
     "start_time": "2025-07-12T19:42:34.102026Z"
    },
    "id": "0720fd3d-00bf-4792-9e59-404065610016"
   },
   "outputs": [
    {
     "data": {
      "text/plain": [
       "1"
      ]
     },
     "execution_count": 11,
     "metadata": {},
     "output_type": "execute_result"
    }
   ],
   "source": [
    "next_node.depth"
   ]
  },
  {
   "cell_type": "markdown",
   "id": "37bb198a-345d-4f7f-aa2e-38dd5a85058a",
   "metadata": {
    "id": "37bb198a-345d-4f7f-aa2e-38dd5a85058a"
   },
   "source": [
    "### Expandir la frontera del nodo siguiente\n",
    "\n",
    "\n",
    "\n",
    "\n",
    "Expandimos ahora la frontera de este nodo:"
   ]
  },
  {
   "cell_type": "code",
   "execution_count": 12,
   "id": "1596457f-e83f-4fbb-bc01-dc92ac235138",
   "metadata": {
    "ExecuteTime": {
     "end_time": "2025-07-12T19:42:34.127564Z",
     "start_time": "2025-07-12T19:42:34.125639Z"
    },
    "id": "1596457f-e83f-4fbb-bc01-dc92ac235138"
   },
   "outputs": [],
   "source": [
    "lista_nodos_fronteras2 = next_node.expand(problem=problem)"
   ]
  },
  {
   "cell_type": "code",
   "execution_count": 13,
   "id": "2e858ab0-09d6-43ec-a6dd-0e890cf7a9fa",
   "metadata": {
    "ExecuteTime": {
     "end_time": "2025-07-12T19:42:34.164623Z",
     "start_time": "2025-07-12T19:42:34.161495Z"
    },
    "id": "2e858ab0-09d6-43ec-a6dd-0e890cf7a9fa"
   },
   "outputs": [
    {
     "name": "stdout",
     "output_type": "stream",
     "text": [
      "<Node HanoiState: 5 4 3 | 1 | 2>\n",
      "<Node HanoiState: 5 4 3 2 1 |  | >\n",
      "<Node HanoiState: 5 4 3 2 |  | 1>\n"
     ]
    }
   ],
   "source": [
    "for nodos in lista_nodos_fronteras2:\n",
    "    print(nodos)"
   ]
  },
  {
   "cell_type": "markdown",
   "id": "6971d114-f890-4715-80f3-0f1c9be82813",
   "metadata": {
    "id": "6971d114-f890-4715-80f3-0f1c9be82813"
   },
   "source": [
    "Veamos cómo quedó ahora el árbol:\n",
    "\n",
    "![tree](./img/tree_hanoi3.png)\n",
    "\n",
    "Observamos lo siguiente: se generaron tres nuevos nodos en la frontera. De estos, hay dos que llaman la atención.\n",
    "\n",
    "- Hay un nodo cuyo estado es igual al del nodo padre. Esto ocurre porque, si movemos el disco verde de vuelta a la varilla de la izquierda, *\"retornamos\"* al estado inicial.\n",
    "- Hay un nodo que tiene el mismo estado que el segundo nodo obtenido del padre.\n",
    "\n",
    "Esto es importante de destacar: **múltiples nodos pueden tener el mismo estado**, pero el costo para llegar a ese nodo y la secuencia de acciones desde la raíz hasta ese nodo serán diferentes.\n",
    "\n",
    "Veamos ahora el nodo cuyo estado no está repetido:"
   ]
  },
  {
   "cell_type": "code",
   "execution_count": 14,
   "id": "219e2594-28d3-44e7-83b2-835b51142c53",
   "metadata": {
    "ExecuteTime": {
     "end_time": "2025-07-12T19:42:34.187925Z",
     "start_time": "2025-07-12T19:42:34.185941Z"
    },
    "id": "219e2594-28d3-44e7-83b2-835b51142c53"
   },
   "outputs": [],
   "source": [
    "next_node2 = lista_nodos_fronteras2[0]"
   ]
  },
  {
   "cell_type": "markdown",
   "id": "ea3aff19-ddf4-4457-a33e-2e6c0ff040c3",
   "metadata": {
    "id": "ea3aff19-ddf4-4457-a33e-2e6c0ff040c3"
   },
   "source": [
    "Vemos su estado:"
   ]
  },
  {
   "cell_type": "code",
   "execution_count": 15,
   "id": "b72fb999-17e0-49cf-b882-606f9efc5f98",
   "metadata": {
    "ExecuteTime": {
     "end_time": "2025-07-12T19:42:34.216365Z",
     "start_time": "2025-07-12T19:42:34.214162Z"
    },
    "id": "b72fb999-17e0-49cf-b882-606f9efc5f98"
   },
   "outputs": [
    {
     "data": {
      "text/plain": [
       "HanoiState: 5 4 3 | 1 | 2"
      ]
     },
     "execution_count": 15,
     "metadata": {},
     "output_type": "execute_result"
    }
   ],
   "source": [
    "next_node2.state"
   ]
  },
  {
   "cell_type": "markdown",
   "id": "f16b6863-d8c7-48a8-952b-3ed435afc909",
   "metadata": {
    "id": "f16b6863-d8c7-48a8-952b-3ed435afc909"
   },
   "source": [
    "Vemos quién es el padre:"
   ]
  },
  {
   "cell_type": "code",
   "execution_count": 16,
   "id": "0c40a064-6176-4213-aac2-40359940c229",
   "metadata": {
    "ExecuteTime": {
     "end_time": "2025-07-12T19:42:34.261779Z",
     "start_time": "2025-07-12T19:42:34.258746Z"
    },
    "id": "0c40a064-6176-4213-aac2-40359940c229"
   },
   "outputs": [
    {
     "data": {
      "text/plain": [
       "<Node HanoiState: 5 4 3 2 | 1 | >"
      ]
     },
     "execution_count": 16,
     "metadata": {},
     "output_type": "execute_result"
    }
   ],
   "source": [
    "next_node2.parent"
   ]
  },
  {
   "cell_type": "markdown",
   "id": "a8f0f2bb-266d-4421-8e18-23cb1d23d027",
   "metadata": {
    "id": "a8f0f2bb-266d-4421-8e18-23cb1d23d027"
   },
   "source": [
    "El costo acumulado desde la raíz hasta este nodo es:"
   ]
  },
  {
   "cell_type": "code",
   "execution_count": 17,
   "id": "f89f93d5-55fb-4af0-af6b-26c8383a192f",
   "metadata": {
    "ExecuteTime": {
     "end_time": "2025-07-12T19:42:34.307899Z",
     "start_time": "2025-07-12T19:42:34.304890Z"
    },
    "id": "f89f93d5-55fb-4af0-af6b-26c8383a192f"
   },
   "outputs": [
    {
     "data": {
      "text/plain": [
       "2.0"
      ]
     },
     "execution_count": 17,
     "metadata": {},
     "output_type": "execute_result"
    }
   ],
   "source": [
    "next_node2.path_cost"
   ]
  },
  {
   "cell_type": "markdown",
   "id": "b366bfd6-cbc3-4d77-ae9a-32ac612b1166",
   "metadata": {
    "id": "b366bfd6-cbc3-4d77-ae9a-32ac612b1166"
   },
   "source": [
    "Y la profundidad en la que estamos en el árbol:"
   ]
  },
  {
   "cell_type": "code",
   "execution_count": 18,
   "id": "109a0a11-06c1-4b88-b20b-e67b86447e26",
   "metadata": {
    "ExecuteTime": {
     "end_time": "2025-07-12T19:42:34.355206Z",
     "start_time": "2025-07-12T19:42:34.352484Z"
    },
    "id": "109a0a11-06c1-4b88-b20b-e67b86447e26"
   },
   "outputs": [
    {
     "data": {
      "text/plain": [
       "2"
      ]
     },
     "execution_count": 18,
     "metadata": {},
     "output_type": "execute_result"
    }
   ],
   "source": [
    "next_node2.depth"
   ]
  },
  {
   "cell_type": "markdown",
   "id": "678c223c-df4e-4263-80a2-f2f622114e34",
   "metadata": {
    "id": "678c223c-df4e-4263-80a2-f2f622114e34"
   },
   "source": [
    "Veamos el camino desde la raíz hasta este nodo:"
   ]
  },
  {
   "cell_type": "code",
   "execution_count": 19,
   "id": "ed92a01c-6410-45b7-abc4-0027f60919d9",
   "metadata": {
    "ExecuteTime": {
     "end_time": "2025-07-12T19:42:34.397605Z",
     "start_time": "2025-07-12T19:42:34.395743Z"
    },
    "id": "ed92a01c-6410-45b7-abc4-0027f60919d9"
   },
   "outputs": [
    {
     "name": "stdout",
     "output_type": "stream",
     "text": [
      "<Node HanoiState: 5 4 3 2 1 |  | >\n",
      "<Node HanoiState: 5 4 3 2 | 1 | >\n",
      "<Node HanoiState: 5 4 3 | 1 | 2>\n"
     ]
    }
   ],
   "source": [
    "for nodos in next_node2.path():\n",
    "    print(nodos)"
   ]
  },
  {
   "cell_type": "markdown",
   "id": "be7c1ad5-c49c-485c-a854-b5119a77b083",
   "metadata": {
    "id": "be7c1ad5-c49c-485c-a854-b5119a77b083"
   },
   "source": [
    "Y las acciones que se aplicaron desde el inicio hasta este nodo:"
   ]
  },
  {
   "cell_type": "code",
   "execution_count": 20,
   "id": "fb396529-daa8-4606-815d-a98616cefe3a",
   "metadata": {
    "ExecuteTime": {
     "end_time": "2025-07-12T19:42:34.440938Z",
     "start_time": "2025-07-12T19:42:34.438559Z"
    },
    "id": "fb396529-daa8-4606-815d-a98616cefe3a"
   },
   "outputs": [
    {
     "name": "stdout",
     "output_type": "stream",
     "text": [
      "Move disk 1 from 1 to 2\n",
      "Move disk 2 from 1 to 3\n"
     ]
    }
   ],
   "source": [
    "for nodos in next_node2.solution():\n",
    "    print(nodos)"
   ]
  },
  {
   "cell_type": "markdown",
   "id": "cc2b11bdc9cb336a",
   "metadata": {
    "collapsed": false,
    "id": "cc2b11bdc9cb336a",
    "jupyter": {
     "outputs_hidden": false
    }
   },
   "source": [
    "## Colas\n",
    "\n",
    "La pregunta es: ¿cómo hacemos para elegir cuál nodo seleccionar para explorar la frontera? Para ello necesitamos una estructura de datos que nos permita explorar la frontera. Esta estructura es vital para el algoritmo de búsqueda, ya que nos permite seleccionar qué nodo vamos a expandir primero. Como vimos en los videos, elegir el tipo de estructura para expandir es lo que define el tipo de algoritmo.\n",
    "\n",
    "La frontera se expande usando **colas**, y tenemos tres tipos:\n",
    "\n",
    "- Una cola **FIFO** (Primero entra, primero sale) que toma los nodos en el mismo orden en que se agregan.\n",
    "- Una cola **LIFO** (Último en entrar, primero en salir, o \"stack\") que quita el nodo más reciente.\n",
    "- Una **cola prioritaria** que quita primero los nodos con el mínimo costo, de acuerdo con una función de evaluación `f()`.\n",
    "\n",
    "### FIFO\n",
    "\n",
    "Veamos una implementación de cola FIFO usando una lista:"
   ]
  },
  {
   "cell_type": "code",
   "execution_count": 21,
   "id": "b6cb08bb91483cb1",
   "metadata": {
    "ExecuteTime": {
     "end_time": "2025-07-12T19:42:34.471383Z",
     "start_time": "2025-07-12T19:42:34.468303Z"
    },
    "collapsed": false,
    "id": "b6cb08bb91483cb1",
    "jupyter": {
     "outputs_hidden": false
    }
   },
   "outputs": [],
   "source": [
    "fifo = []"
   ]
  },
  {
   "cell_type": "markdown",
   "id": "9210ed141b4bc46f",
   "metadata": {
    "collapsed": false,
    "id": "9210ed141b4bc46f",
    "jupyter": {
     "outputs_hidden": false
    }
   },
   "source": [
    "La implementación debe incorporar las siguientes funciones:\n",
    "\n",
    "- **Add(Frontier)**: Inserta el nodo en su correspondiente lugar de la cola. En el caso de la FIFO, inserta los nodos en el orden en que van llegando, utilizando el método `insert()`."
   ]
  },
  {
   "cell_type": "code",
   "execution_count": 22,
   "id": "572dd05b05bfd5af",
   "metadata": {
    "ExecuteTime": {
     "end_time": "2025-07-12T19:42:34.509708Z",
     "start_time": "2025-07-12T19:42:34.507278Z"
    },
    "collapsed": false,
    "id": "572dd05b05bfd5af",
    "jupyter": {
     "outputs_hidden": false
    }
   },
   "outputs": [
    {
     "name": "stdout",
     "output_type": "stream",
     "text": [
      "<Node HanoiState: 5 4 3 2 |  | 1>\n",
      "<Node HanoiState: 5 4 3 2 | 1 | >\n"
     ]
    }
   ],
   "source": [
    "fifo.insert(0, lista_nodos_fronteras[0])\n",
    "fifo.insert(0, lista_nodos_fronteras[1])\n",
    "\n",
    "for nodos in fifo:\n",
    "    print(nodos)"
   ]
  },
  {
   "cell_type": "markdown",
   "id": "88775cc4a588bfe0",
   "metadata": {
    "collapsed": false,
    "id": "88775cc4a588bfe0",
    "jupyter": {
     "outputs_hidden": false
    }
   },
   "source": [
    "- **Is-empty(frontier)**: Retorna `True` si no hay nodos en la frontera. En el caso de la implementación con una lista, podemos preguntar si la cantidad de elementos es cero."
   ]
  },
  {
   "cell_type": "code",
   "execution_count": 23,
   "id": "c669998769c9c5b0",
   "metadata": {
    "ExecuteTime": {
     "end_time": "2025-07-12T19:42:34.553664Z",
     "start_time": "2025-07-12T19:42:34.551516Z"
    },
    "collapsed": false,
    "id": "c669998769c9c5b0",
    "jupyter": {
     "outputs_hidden": false
    }
   },
   "outputs": [
    {
     "name": "stdout",
     "output_type": "stream",
     "text": [
      "La cola está vacia?\n",
      "La cola tiene elementos\n"
     ]
    }
   ],
   "source": [
    "print(\"La cola está vacia?\")\n",
    "if len(fifo) == 0:\n",
    "    print(\"La cola esta vacía\")\n",
    "else:\n",
    "    print(\"La cola tiene elementos\")"
   ]
  },
  {
   "cell_type": "markdown",
   "id": "a7ceb6d0737f58a5",
   "metadata": {
    "collapsed": false,
    "id": "a7ceb6d0737f58a5",
    "jupyter": {
     "outputs_hidden": false
    }
   },
   "source": [
    "- **Pop(frontier)**: Quita el primer nodo en la cola. Con las listas, podemos usar el método `pop()`."
   ]
  },
  {
   "cell_type": "code",
   "execution_count": 24,
   "id": "288bfbf1c7c01e29",
   "metadata": {
    "ExecuteTime": {
     "end_time": "2025-07-12T19:42:34.608147Z",
     "start_time": "2025-07-12T19:42:34.606393Z"
    },
    "collapsed": false,
    "id": "288bfbf1c7c01e29",
    "jupyter": {
     "outputs_hidden": false
    }
   },
   "outputs": [
    {
     "name": "stdout",
     "output_type": "stream",
     "text": [
      "El nodo que sacamos es <Node HanoiState: 5 4 3 2 | 1 | >\n"
     ]
    }
   ],
   "source": [
    "new_node = fifo.pop()\n",
    "print(f\"El nodo que sacamos es {new_node}\")"
   ]
  },
  {
   "cell_type": "markdown",
   "id": "928d39a8b36f627d",
   "metadata": {
    "collapsed": false,
    "id": "928d39a8b36f627d",
    "jupyter": {
     "outputs_hidden": false
    }
   },
   "source": [
    "Podemos ver que, una vez sacado el nodo, el mismo ya no está en la fila, y que particularmente sacamos el primer nodo que entró:"
   ]
  },
  {
   "cell_type": "code",
   "execution_count": 25,
   "id": "79996784e77b4da5",
   "metadata": {
    "ExecuteTime": {
     "end_time": "2025-07-12T19:42:34.644693Z",
     "start_time": "2025-07-12T19:42:34.642527Z"
    },
    "collapsed": false,
    "id": "79996784e77b4da5",
    "jupyter": {
     "outputs_hidden": false
    }
   },
   "outputs": [
    {
     "name": "stdout",
     "output_type": "stream",
     "text": [
      "Los nodos que quedan en la fila son:\n",
      "[<Node HanoiState: 5 4 3 2 |  | 1>]\n"
     ]
    }
   ],
   "source": [
    "print(\"Los nodos que quedan en la fila son:\")\n",
    "print(fifo)"
   ]
  },
  {
   "cell_type": "markdown",
   "id": "53f5f83682d162a5",
   "metadata": {
    "collapsed": false,
    "id": "53f5f83682d162a5",
    "jupyter": {
     "outputs_hidden": false
    }
   },
   "source": [
    "Si expandimos la frontera del nuevo nodo que tenemos, podemos agregarlo a la cola:"
   ]
  },
  {
   "cell_type": "code",
   "execution_count": 26,
   "id": "ffeecf283cae2cfd",
   "metadata": {
    "ExecuteTime": {
     "end_time": "2025-07-12T19:42:34.693989Z",
     "start_time": "2025-07-12T19:42:34.689224Z"
    },
    "collapsed": false,
    "id": "ffeecf283cae2cfd",
    "jupyter": {
     "outputs_hidden": false
    }
   },
   "outputs": [],
   "source": [
    "lista_nodos_fronteras2 = new_node.expand(problem=problem)\n",
    "\n",
    "# Insertamos los nodos de frontera en el orden que nos fue presentado:\n",
    "fifo.insert(0, lista_nodos_fronteras2[0])\n",
    "fifo.insert(0, lista_nodos_fronteras2[1])\n",
    "fifo.insert(0, lista_nodos_fronteras2[2])"
   ]
  },
  {
   "cell_type": "code",
   "execution_count": 27,
   "id": "eb9041c677f751ee",
   "metadata": {
    "ExecuteTime": {
     "end_time": "2025-07-12T19:42:34.707429Z",
     "start_time": "2025-07-12T19:42:34.705136Z"
    },
    "collapsed": false,
    "id": "eb9041c677f751ee",
    "jupyter": {
     "outputs_hidden": false
    }
   },
   "outputs": [
    {
     "name": "stdout",
     "output_type": "stream",
     "text": [
      "<Node HanoiState: 5 4 3 2 |  | 1>\n",
      "<Node HanoiState: 5 4 3 2 1 |  | >\n",
      "<Node HanoiState: 5 4 3 | 1 | 2>\n",
      "<Node HanoiState: 5 4 3 2 |  | 1>\n"
     ]
    }
   ],
   "source": [
    "for nodos in fifo:\n",
    "    print(nodos)"
   ]
  },
  {
   "cell_type": "markdown",
   "id": "5f53f547-2dc1-47cd-8c78-2ac9b01cb8af",
   "metadata": {
    "id": "5f53f547-2dc1-47cd-8c78-2ac9b01cb8af"
   },
   "source": [
    "- **Top(frontier)**: Podemos ver cuál es nuestro siguiente nodo sin sacarlo:"
   ]
  },
  {
   "cell_type": "code",
   "execution_count": 28,
   "id": "34c576906dc0feed",
   "metadata": {
    "ExecuteTime": {
     "end_time": "2025-07-12T19:42:34.751487Z",
     "start_time": "2025-07-12T19:42:34.748959Z"
    },
    "collapsed": false,
    "id": "34c576906dc0feed",
    "jupyter": {
     "outputs_hidden": false
    }
   },
   "outputs": [
    {
     "name": "stdout",
     "output_type": "stream",
     "text": [
      "El siguiente nodo que podemos sacar es <Node HanoiState: 5 4 3 2 |  | 1>\n"
     ]
    }
   ],
   "source": [
    "print(f\"El siguiente nodo que podemos sacar es {fifo[-1]}\")"
   ]
  },
  {
   "cell_type": "markdown",
   "id": "722c4f28-78a8-4fac-8ffa-94382df2daba",
   "metadata": {
    "id": "722c4f28-78a8-4fac-8ffa-94382df2daba"
   },
   "source": [
    "Este es el segundo nodo que introdujimos cuando agregamos la frontera de la raíz. Como vemos, se respeta el principio *\"Primero entra, primero sale\"*.\n",
    "\n",
    "### LIFO\n",
    "\n",
    "Ahora veamos cómo podemos implementar un **stack**. Esto también lo podemos hacer con una lista."
   ]
  },
  {
   "cell_type": "code",
   "execution_count": 29,
   "id": "67ce53f1-f362-4bbd-a5fb-f946b23890a2",
   "metadata": {
    "ExecuteTime": {
     "end_time": "2025-07-12T19:42:34.794420Z",
     "start_time": "2025-07-12T19:42:34.792436Z"
    },
    "id": "67ce53f1-f362-4bbd-a5fb-f946b23890a2"
   },
   "outputs": [],
   "source": [
    "lifo = []"
   ]
  },
  {
   "cell_type": "markdown",
   "id": "1af4d466-c513-49cd-b221-69190b8e26d7",
   "metadata": {
    "id": "1af4d466-c513-49cd-b221-69190b8e26d7"
   },
   "source": [
    "- **Add(Frontier)**: Inserta el nodo en su correspondiente lugar de la cola. En el caso de la LIFO, se inserta de forma apilada para que el último nodo que se inserte, esté listo para salir. Esto lo hacemos usando `append()`:"
   ]
  },
  {
   "cell_type": "code",
   "execution_count": 30,
   "id": "d56e98a3-e186-47eb-8a25-e7a36733a128",
   "metadata": {
    "ExecuteTime": {
     "end_time": "2025-07-12T19:42:34.821767Z",
     "start_time": "2025-07-12T19:42:34.819547Z"
    },
    "id": "d56e98a3-e186-47eb-8a25-e7a36733a128"
   },
   "outputs": [
    {
     "name": "stdout",
     "output_type": "stream",
     "text": [
      "<Node HanoiState: 5 4 3 2 | 1 | >\n",
      "<Node HanoiState: 5 4 3 2 |  | 1>\n"
     ]
    }
   ],
   "source": [
    "lifo.append(lista_nodos_fronteras[0])\n",
    "lifo.append(lista_nodos_fronteras[1])\n",
    "\n",
    "for nodos in lifo:\n",
    "    print(nodos)"
   ]
  },
  {
   "cell_type": "markdown",
   "id": "b43d6550-d7d5-4d15-9da6-6c0052ddf61e",
   "metadata": {
    "id": "b43d6550-d7d5-4d15-9da6-6c0052ddf61e"
   },
   "source": [
    "> ⚠️ **Nota**: Los nodos están ordenados de forma inversa al caso de la fila FIFO.\n",
    "\n",
    "- **Is-empty(frontier)**: Retorna `True` si no hay nodos en la frontera. En el caso de la implementación con una lista, podemos preguntar si la cantidad de elementos es cero."
   ]
  },
  {
   "cell_type": "code",
   "execution_count": 31,
   "id": "46b95f4b-ad3c-41c0-ae06-b0ed8f855bd6",
   "metadata": {
    "ExecuteTime": {
     "end_time": "2025-07-12T19:42:34.860916Z",
     "start_time": "2025-07-12T19:42:34.858936Z"
    },
    "id": "46b95f4b-ad3c-41c0-ae06-b0ed8f855bd6"
   },
   "outputs": [
    {
     "name": "stdout",
     "output_type": "stream",
     "text": [
      "El stack está vacio?\n",
      "El stack tiene elementos\n"
     ]
    }
   ],
   "source": [
    "print(\"El stack está vacio?\")\n",
    "if len(lifo) == 0:\n",
    "    print(\"El stack esta vacio\")\n",
    "else:\n",
    "    print(\"El stack tiene elementos\")"
   ]
  },
  {
   "cell_type": "markdown",
   "id": "0dfacaab-3831-4cba-b7a1-42cff8fb7ad5",
   "metadata": {
    "id": "0dfacaab-3831-4cba-b7a1-42cff8fb7ad5"
   },
   "source": [
    "- **Pop(frontier)**: Quita el primer nodo en la cola. Con las listas, usamos el método `pop()`."
   ]
  },
  {
   "cell_type": "code",
   "execution_count": 32,
   "id": "8fe319fe-a3fc-49ff-b7d3-36913c25b460",
   "metadata": {
    "ExecuteTime": {
     "end_time": "2025-07-12T19:42:34.908352Z",
     "start_time": "2025-07-12T19:42:34.906205Z"
    },
    "id": "8fe319fe-a3fc-49ff-b7d3-36913c25b460"
   },
   "outputs": [
    {
     "name": "stdout",
     "output_type": "stream",
     "text": [
      "El nodo que sacamos es <Node HanoiState: 5 4 3 2 |  | 1>\n"
     ]
    }
   ],
   "source": [
    "new_node = lifo.pop()\n",
    "print(f\"El nodo que sacamos es {new_node}\")"
   ]
  },
  {
   "cell_type": "markdown",
   "id": "cb0df144-a369-4b58-8c51-b39a80bde704",
   "metadata": {
    "id": "cb0df144-a369-4b58-8c51-b39a80bde704"
   },
   "source": [
    "Podemos ver que, una vez sacado el nodo, el mismo ya no está en la fila, y que particularmente sacamos el último nodo que entró:"
   ]
  },
  {
   "cell_type": "code",
   "execution_count": 33,
   "id": "0e6ff5fe-07c2-4853-934c-5133168e79ce",
   "metadata": {
    "ExecuteTime": {
     "end_time": "2025-07-12T19:42:34.944377Z",
     "start_time": "2025-07-12T19:42:34.942188Z"
    },
    "id": "0e6ff5fe-07c2-4853-934c-5133168e79ce"
   },
   "outputs": [
    {
     "name": "stdout",
     "output_type": "stream",
     "text": [
      "Los nodos que quedan en la fila son:\n",
      "[<Node HanoiState: 5 4 3 2 | 1 | >]\n"
     ]
    }
   ],
   "source": [
    "print(\"Los nodos que quedan en la fila son:\")\n",
    "print(lifo)"
   ]
  },
  {
   "cell_type": "markdown",
   "id": "f48cb0b0-a2e8-42a2-b3c7-e45e7d3a00df",
   "metadata": {
    "id": "f48cb0b0-a2e8-42a2-b3c7-e45e7d3a00df"
   },
   "source": [
    "Si expandimos la frontera del nuevo nodo que tenemos, podemos agregarlo a la cola:"
   ]
  },
  {
   "cell_type": "code",
   "execution_count": 34,
   "id": "d8b6a31e-15fe-410d-9dc5-849b5e80609c",
   "metadata": {
    "ExecuteTime": {
     "end_time": "2025-07-12T19:42:34.989410Z",
     "start_time": "2025-07-12T19:42:34.987007Z"
    },
    "id": "d8b6a31e-15fe-410d-9dc5-849b5e80609c"
   },
   "outputs": [],
   "source": [
    "lista_nodos_fronteras2 = new_node.expand(problem=problem)\n",
    "\n",
    "lifo.append(lista_nodos_fronteras2[0])\n",
    "lifo.append(lista_nodos_fronteras2[1])\n",
    "lifo.append(lista_nodos_fronteras2[2])"
   ]
  },
  {
   "cell_type": "code",
   "execution_count": 35,
   "id": "aa4dead1-d72f-4190-97e9-10249c904056",
   "metadata": {
    "ExecuteTime": {
     "end_time": "2025-07-12T19:42:35.027077Z",
     "start_time": "2025-07-12T19:42:35.025120Z"
    },
    "id": "aa4dead1-d72f-4190-97e9-10249c904056"
   },
   "outputs": [
    {
     "name": "stdout",
     "output_type": "stream",
     "text": [
      "<Node HanoiState: 5 4 3 2 | 1 | >\n",
      "<Node HanoiState: 5 4 3 | 2 | 1>\n",
      "<Node HanoiState: 5 4 3 2 1 |  | >\n",
      "<Node HanoiState: 5 4 3 2 | 1 | >\n"
     ]
    }
   ],
   "source": [
    "for nodos in lifo:\n",
    "    print(nodos)"
   ]
  },
  {
   "cell_type": "markdown",
   "id": "e088decd-bfe9-4db4-ac21-045322afbf04",
   "metadata": {
    "id": "e088decd-bfe9-4db4-ac21-045322afbf04"
   },
   "source": [
    "- **Top(frontier)**: Podemos ver cuál es nuestro siguiente nodo sin sacarlo:"
   ]
  },
  {
   "cell_type": "code",
   "execution_count": 36,
   "id": "5d388520-7481-47ea-92f5-cac5cce183f3",
   "metadata": {
    "ExecuteTime": {
     "end_time": "2025-07-12T19:42:35.076189Z",
     "start_time": "2025-07-12T19:42:35.074488Z"
    },
    "id": "5d388520-7481-47ea-92f5-cac5cce183f3"
   },
   "outputs": [
    {
     "name": "stdout",
     "output_type": "stream",
     "text": [
      "El siguiente nodo que podemos sacar es <Node HanoiState: 5 4 3 2 | 1 | >\n"
     ]
    }
   ],
   "source": [
    "print(f\"El siguiente nodo que podemos sacar es {lifo[-1]}\")"
   ]
  },
  {
   "cell_type": "markdown",
   "id": "09466150-683c-4a3a-bde5-52109438a8a5",
   "metadata": {
    "id": "09466150-683c-4a3a-bde5-52109438a8a5"
   },
   "source": [
    "Este es el último nodo que introdujimos cuando agregamos la frontera del nodo que sacamos de la cola. Como vemos, se respeta el principio *\"Último entra, primero sale\"*.\n",
    "\n",
    "### Cola prioritaria\n",
    "\n",
    "Por último, nos queda ver la cola prioritaria. Para ello, usaremos la librería `queue` que viene por defecto en Python. [Esta librería](https://docs.python.org/3/library/queue.html) implementa varias colas (incluidas las colas FIFO y LIFO). Particularmente, vamos a usar la clase `PriorityQueue`."
   ]
  },
  {
   "cell_type": "code",
   "execution_count": 37,
   "id": "ddf02b73-5a44-4794-a1dd-97362a23e97e",
   "metadata": {
    "ExecuteTime": {
     "end_time": "2025-07-12T19:42:35.113788Z",
     "start_time": "2025-07-12T19:42:35.112215Z"
    },
    "id": "ddf02b73-5a44-4794-a1dd-97362a23e97e"
   },
   "outputs": [],
   "source": [
    "from queue import PriorityQueue\n",
    "\n",
    "priority_queue = PriorityQueue()"
   ]
  },
  {
   "cell_type": "markdown",
   "id": "831cad4a-f982-4e71-b792-71af39892b98",
   "metadata": {
    "id": "831cad4a-f982-4e71-b792-71af39892b98"
   },
   "source": [
    "- **Add(Frontier)**: Para esta cola, se debe pasar el nodo que queremos encolar, pero además debemos pasar un número que defina la prioridad en forma de tupla. Esta cola siempre extrae el nodo con el valor de prioridad más bajo."
   ]
  },
  {
   "cell_type": "code",
   "execution_count": 38,
   "id": "3bffd3b3-ed29-4364-b4d2-adf67c8299f6",
   "metadata": {
    "ExecuteTime": {
     "end_time": "2025-07-12T19:42:35.139825Z",
     "start_time": "2025-07-12T19:42:35.137383Z"
    },
    "id": "3bffd3b3-ed29-4364-b4d2-adf67c8299f6"
   },
   "outputs": [],
   "source": [
    "priority_queue.put((4, lista_nodos_fronteras[0]))\n",
    "priority_queue.put((2, lista_nodos_fronteras[1]))"
   ]
  },
  {
   "cell_type": "markdown",
   "id": "b0e82527-cd5e-46b8-945c-7e132d4cf0e3",
   "metadata": {
    "id": "b0e82527-cd5e-46b8-945c-7e132d4cf0e3"
   },
   "source": [
    "Como vimos en clase, el valor que podemos guardar puede ser:\n",
    "\n",
    "- El costo hasta ese nodo (`g(n)`),\n",
    "- Una heurística (`h(n)`),\n",
    "- O una combinación de ambas (`f(n) = g(n) + h(n)`).\n",
    "\n",
    "En este caso usamos valores arbitrarios solo para ver el funcionamiento.\n",
    "\n",
    "- **Is-empty(frontier)**: Retorna `True` si no hay nodos en la frontera. Podemos usar el método `empty()`:"
   ]
  },
  {
   "cell_type": "code",
   "execution_count": 39,
   "id": "20a432e3-a2ef-4524-95f3-9a6f25722cf5",
   "metadata": {
    "ExecuteTime": {
     "end_time": "2025-07-12T19:42:35.160732Z",
     "start_time": "2025-07-12T19:42:35.157935Z"
    },
    "id": "20a432e3-a2ef-4524-95f3-9a6f25722cf5"
   },
   "outputs": [
    {
     "name": "stdout",
     "output_type": "stream",
     "text": [
      "La cola prioritaria está vacia?\n",
      "La cola prioritaria tiene elementos\n"
     ]
    }
   ],
   "source": [
    "print(\"La cola prioritaria está vacia?\")\n",
    "if priority_queue.empty():\n",
    "    print(\"La cola prioritaria esta vacia\")\n",
    "else:\n",
    "    print(\"La cola prioritaria tiene elementos\")"
   ]
  },
  {
   "cell_type": "markdown",
   "id": "08b26424-aa21-45d3-b0dd-7bfb12afabec",
   "metadata": {
    "id": "08b26424-aa21-45d3-b0dd-7bfb12afabec"
   },
   "source": [
    "- **Pop(frontier)**: Quita el primer nodo en la cola usando el método `get()`. El nodo extraído será el de menor prioridad."
   ]
  },
  {
   "cell_type": "code",
   "execution_count": 40,
   "id": "17488166-90d7-4711-921a-989691bee598",
   "metadata": {
    "ExecuteTime": {
     "end_time": "2025-07-12T19:42:35.201271Z",
     "start_time": "2025-07-12T19:42:35.198848Z"
    },
    "id": "17488166-90d7-4711-921a-989691bee598"
   },
   "outputs": [
    {
     "name": "stdout",
     "output_type": "stream",
     "text": [
      "El nodo que sacamos es <Node HanoiState: 5 4 3 2 |  | 1>, cuyo valor de prioridad es 2\n"
     ]
    }
   ],
   "source": [
    "priority_value, new_node = priority_queue.get()\n",
    "print(f\"El nodo que sacamos es {new_node}, cuyo valor de prioridad es {priority_value}\")"
   ]
  },
  {
   "cell_type": "markdown",
   "id": "63706b59-adf4-4475-b1f0-ca08abdf7a77",
   "metadata": {
    "id": "63706b59-adf4-4475-b1f0-ca08abdf7a77"
   },
   "source": [
    "Si expandimos la frontera del nuevo nodo, podemos agregar los nuevos nodos generados a la cola:"
   ]
  },
  {
   "cell_type": "code",
   "execution_count": 41,
   "id": "389ebe11-2717-4609-8787-c6099e3e47a5",
   "metadata": {
    "ExecuteTime": {
     "end_time": "2025-07-12T19:42:35.244405Z",
     "start_time": "2025-07-12T19:42:35.242230Z"
    },
    "id": "389ebe11-2717-4609-8787-c6099e3e47a5"
   },
   "outputs": [],
   "source": [
    "lista_nodos_fronteras2 = new_node.expand(problem=problem)\n",
    "\n",
    "priority_queue.put((1, lista_nodos_fronteras2[0]))\n",
    "priority_queue.put((24, lista_nodos_fronteras2[1]))\n",
    "priority_queue.put((54, lista_nodos_fronteras2[2]))"
   ]
  },
  {
   "cell_type": "markdown",
   "id": "1d168962-91fa-4ee8-8553-a42f118d7732",
   "metadata": {
    "id": "1d168962-91fa-4ee8-8553-a42f118d7732"
   },
   "source": [
    "- **Top(frontier)**: Para ver el siguiente nodo sin sacarlo, podemos acceder directamente a la lista interna queue (aunque esto no es lo más recomendable en producción):"
   ]
  },
  {
   "cell_type": "code",
   "execution_count": 42,
   "id": "2f0fb6b7-3a03-468b-92ee-e68a94d1b9a8",
   "metadata": {
    "ExecuteTime": {
     "end_time": "2025-07-12T19:42:35.271315Z",
     "start_time": "2025-07-12T19:42:35.268790Z"
    },
    "id": "2f0fb6b7-3a03-468b-92ee-e68a94d1b9a8"
   },
   "outputs": [
    {
     "name": "stdout",
     "output_type": "stream",
     "text": [
      "El siguiente nodo que podemos sacar es <Node HanoiState: 5 4 3 | 2 | 1>, el cual tiene prioridad 1\n"
     ]
    }
   ],
   "source": [
    "print(f\"El siguiente nodo que podemos sacar es {priority_queue.queue[0][-1]}, el cual tiene prioridad {priority_queue.queue[0][0]}\")"
   ]
  },
  {
   "cell_type": "markdown",
   "id": "b1f93f19-9de5-4411-bae9-9e89e4e5cc6c",
   "metadata": {
    "id": "b1f93f19-9de5-4411-bae9-9e89e4e5cc6c"
   },
   "source": [
    "#### Cola prioritaria de AIMA\n",
    "\n",
    "También tenemos implementada una cola prioritaria que permite usar una función de evaluación directamente, lo que simplifica bastante la gestión de prioridades. Esta implementación forma parte de la biblioteca `aima`."
   ]
  },
  {
   "cell_type": "code",
   "execution_count": 43,
   "id": "3caf61cb-dc68-4245-ab47-0fd2edb0f257",
   "metadata": {
    "ExecuteTime": {
     "end_time": "2025-07-12T19:42:35.297108Z",
     "start_time": "2025-07-12T19:42:35.295189Z"
    },
    "id": "3caf61cb-dc68-4245-ab47-0fd2edb0f257"
   },
   "outputs": [],
   "source": [
    "from aima_libs.aima import PriorityQueue as AimaPriorityQueue\n",
    "\n",
    "priority_queue2 = AimaPriorityQueue()"
   ]
  },
  {
   "cell_type": "markdown",
   "id": "7cf570d9-1c2c-4abe-b693-f24b0c1e61da",
   "metadata": {
    "id": "7cf570d9-1c2c-4abe-b693-f24b0c1e61da"
   },
   "source": [
    "Con esta cola, podemos:\n",
    "\n",
    "- Definir si la prioridad es por el menor o mayor valor (`order='min'` o `order='max'`).\n",
    "- Pasar una función `f()` que, dado un nodo, devuelva su prioridad.\n",
    "\n",
    "Por ejemplo, para probar su funcionamiento, podemos definir una función que devuelva una prioridad aleatoria:"
   ]
  },
  {
   "cell_type": "code",
   "execution_count": 44,
   "id": "f2d41075-4171-4723-8a3b-c424f87bf0c2",
   "metadata": {
    "ExecuteTime": {
     "end_time": "2025-07-12T19:42:35.323772Z",
     "start_time": "2025-07-12T19:42:35.321757Z"
    },
    "id": "f2d41075-4171-4723-8a3b-c424f87bf0c2"
   },
   "outputs": [],
   "source": [
    "import random\n",
    "\n",
    "def priority_func(x):\n",
    "    return random.randint(1, 1000)"
   ]
  },
  {
   "cell_type": "code",
   "execution_count": 45,
   "id": "fadeb651-7061-4046-98ef-6c8d9e3117de",
   "metadata": {
    "ExecuteTime": {
     "end_time": "2025-07-12T19:42:35.356157Z",
     "start_time": "2025-07-12T19:42:35.354078Z"
    },
    "id": "fadeb651-7061-4046-98ef-6c8d9e3117de"
   },
   "outputs": [],
   "source": [
    "priority_queue2 = AimaPriorityQueue(order='min', f=priority_func)"
   ]
  },
  {
   "cell_type": "markdown",
   "id": "0b4dfc4a-6b6a-48b9-824d-4c6eed64da10",
   "metadata": {
    "id": "0b4dfc4a-6b6a-48b9-824d-4c6eed64da10"
   },
   "source": [
    "- **Add(Frontier)**: Se puede usar el método `append()` para agregar un nodo individual:"
   ]
  },
  {
   "cell_type": "code",
   "execution_count": 46,
   "id": "eca30c19-bb0d-4b31-b367-ac96dd5731a6",
   "metadata": {
    "ExecuteTime": {
     "end_time": "2025-07-12T19:42:35.370398Z",
     "start_time": "2025-07-12T19:42:35.368628Z"
    },
    "id": "eca30c19-bb0d-4b31-b367-ac96dd5731a6"
   },
   "outputs": [],
   "source": [
    "priority_queue2.append(lista_nodos_fronteras[0])\n",
    "priority_queue2.append(lista_nodos_fronteras[1])"
   ]
  },
  {
   "cell_type": "markdown",
   "id": "7b47ed4a-e528-425e-9e48-c9e01a165f12",
   "metadata": {
    "id": "7b47ed4a-e528-425e-9e48-c9e01a165f12"
   },
   "source": [
    "También se puede usar `extend()` para agregar varios nodos de una sola vez:"
   ]
  },
  {
   "cell_type": "code",
   "execution_count": 47,
   "id": "9688972b-f26a-4185-9bf8-2dc0c0f45c5d",
   "metadata": {
    "ExecuteTime": {
     "end_time": "2025-07-12T19:42:35.384872Z",
     "start_time": "2025-07-12T19:42:35.383Z"
    },
    "id": "9688972b-f26a-4185-9bf8-2dc0c0f45c5d"
   },
   "outputs": [],
   "source": [
    "priority_queue2.extend(lista_nodos_fronteras2)"
   ]
  },
  {
   "cell_type": "markdown",
   "id": "ea61c9bc-7dbf-44ec-97cb-bb7d269c9ccc",
   "metadata": {
    "id": "ea61c9bc-7dbf-44ec-97cb-bb7d269c9ccc"
   },
   "source": [
    "Para ver los elementos dentro de la cola:"
   ]
  },
  {
   "cell_type": "code",
   "execution_count": 48,
   "id": "5723fd41-70ab-49f5-9e61-c2aac8a9c45c",
   "metadata": {
    "ExecuteTime": {
     "end_time": "2025-07-12T19:42:35.405897Z",
     "start_time": "2025-07-12T19:42:35.402439Z"
    },
    "id": "5723fd41-70ab-49f5-9e61-c2aac8a9c45c"
   },
   "outputs": [
    {
     "data": {
      "text/plain": [
       "[(214, <Node HanoiState: 5 4 3 2 | 1 | >),\n",
       " (542, <Node HanoiState: 5 4 3 2 |  | 1>),\n",
       " (600, <Node HanoiState: 5 4 3 | 2 | 1>),\n",
       " (773, <Node HanoiState: 5 4 3 2 1 |  | >),\n",
       " (934, <Node HanoiState: 5 4 3 2 | 1 | >)]"
      ]
     },
     "execution_count": 48,
     "metadata": {},
     "output_type": "execute_result"
    }
   ],
   "source": [
    "priority_queue2.heap.queue"
   ]
  },
  {
   "cell_type": "markdown",
   "id": "052a285c-e0da-49f9-9bcf-b6f40084183c",
   "metadata": {
    "id": "052a285c-e0da-49f9-9bcf-b6f40084183c"
   },
   "source": [
    "- **Is-empty(frontier)**: Verifica si la cola está vacía:"
   ]
  },
  {
   "cell_type": "code",
   "execution_count": 49,
   "id": "82d92abb-eb0e-49fe-aa73-0e8f4cd0ab32",
   "metadata": {
    "ExecuteTime": {
     "end_time": "2025-07-12T19:42:35.434169Z",
     "start_time": "2025-07-12T19:42:35.431770Z"
    },
    "id": "82d92abb-eb0e-49fe-aa73-0e8f4cd0ab32"
   },
   "outputs": [
    {
     "name": "stdout",
     "output_type": "stream",
     "text": [
      "La cola prioritaria está vacia?\n",
      "La cola prioritaria tiene elementos\n"
     ]
    }
   ],
   "source": [
    "print(\"La cola prioritaria está vacia?\")\n",
    "if len(priority_queue2) == 0:\n",
    "    print(\"La cola prioritaria esta vacia\")\n",
    "else:\n",
    "    print(\"La cola prioritaria tiene elementos\")"
   ]
  },
  {
   "cell_type": "markdown",
   "id": "c8c9718f-694a-44ea-b98b-099fa0f3108b",
   "metadata": {
    "id": "c8c9718f-694a-44ea-b98b-099fa0f3108b"
   },
   "source": [
    "- **Pop(frontier)**: Quita el nodo con menor prioridad:"
   ]
  },
  {
   "cell_type": "code",
   "execution_count": 50,
   "id": "e5ef28e7-e910-4705-b0ea-3f00ff303c08",
   "metadata": {
    "ExecuteTime": {
     "end_time": "2025-07-12T19:42:35.468831Z",
     "start_time": "2025-07-12T19:42:35.467013Z"
    },
    "id": "e5ef28e7-e910-4705-b0ea-3f00ff303c08"
   },
   "outputs": [
    {
     "name": "stdout",
     "output_type": "stream",
     "text": [
      "El nodo que sacamos es <Node HanoiState: 5 4 3 2 | 1 | >, cuyo valor de prioridad es 214\n"
     ]
    }
   ],
   "source": [
    "priority_value, new_node = priority_queue2.pop()\n",
    "print(f\"El nodo que sacamos es {new_node}, cuyo valor de prioridad es {priority_value}\")"
   ]
  },
  {
   "cell_type": "markdown",
   "id": "131599fb-30d9-46b1-8422-6c8811c2f21c",
   "metadata": {
    "id": "131599fb-30d9-46b1-8422-6c8811c2f21c"
   },
   "source": [
    "- **Top(frontier)**: Podemos ver el siguiente nodo que será extraído con el método `peek()`:"
   ]
  },
  {
   "cell_type": "code",
   "execution_count": 51,
   "id": "61bb5980-3006-4dcb-8eb5-4f064c5586aa",
   "metadata": {
    "ExecuteTime": {
     "end_time": "2025-07-12T19:42:35.512158Z",
     "start_time": "2025-07-12T19:42:35.509426Z"
    },
    "id": "61bb5980-3006-4dcb-8eb5-4f064c5586aa"
   },
   "outputs": [
    {
     "name": "stdout",
     "output_type": "stream",
     "text": [
      "El siguiente nodo que podemos sacar es <Node HanoiState: 5 4 3 2 |  | 1>, el cual tiene prioridad 542\n"
     ]
    }
   ],
   "source": [
    "print(f\"El siguiente nodo que podemos sacar es {priority_queue2.peek()[-1]}, el cual tiene prioridad {priority_queue2.peek()[0]}\")"
   ]
  },
  {
   "cell_type": "markdown",
   "id": "3bc89c3b8cebc03f",
   "metadata": {
    "collapsed": false,
    "id": "3bc89c3b8cebc03f",
    "jupyter": {
     "outputs_hidden": false
    }
   },
   "source": [
    "### Conclusión\n",
    "\n",
    "Todo lo que hemos visto hasta ahora *—desde cómo definimos el problema hasta cómo se define la cola—* son ejemplos de implementación. Estos sirven como base, pero cada persona o proyecto es libre de usar estas soluciones o implementar las propias, de acuerdo a las necesidades del problema o del entorno en el que se esté trabajando.\n",
    "\n",
    "----\n",
    "\n",
    "## Búsqueda Primero en Anchura\n",
    "\n",
    "Con todo lo que fuimos implementando, ahora podemos aplicar un algoritmo de búsqueda. Observá todo lo que tuvimos que definir e implementar previamente para poder llegar hasta este punto.\n",
    "\n",
    "Vamos a implementar el algoritmo de **búsqueda primero en anchura (Breadth-First Search)**, tal como vimos en el video. Este algoritmo comienza desde la raíz y va expandiendo todos los nodos nivel por nivel utilizando una cola **FIFO**.\n",
    "\n",
    "![breadth_first_search](./img/breadth_first_search.png)\n",
    "\n",
    "### Probamos con menos discos\n",
    "\n",
    "Empecemos con menos discos para probar cómo implementarlo y luego pasamos al caso con 5 discos:"
   ]
  },
  {
   "cell_type": "code",
   "execution_count": 52,
   "id": "e6142d0203362c8a",
   "metadata": {
    "ExecuteTime": {
     "end_time": "2025-07-12T19:42:35.615688Z",
     "start_time": "2025-07-12T19:42:35.578475Z"
    },
    "collapsed": false,
    "id": "e6142d0203362c8a",
    "jupyter": {
     "outputs_hidden": false
    }
   },
   "outputs": [
    {
     "name": "stdout",
     "output_type": "stream",
     "text": [
      "Encontramos la solución\n"
     ]
    }
   ],
   "source": [
    "# Inicializamos el problema\n",
    "initial_state = StatesHanoi([3, 2, 1], [], [], max_disks=3)\n",
    "goal_state = StatesHanoi([], [], [3, 2, 1], max_disks=3)\n",
    "problem = ProblemHanoi(initial=initial_state, goal=goal_state)\n",
    "\n",
    "frontier = [NodeHanoi(problem.initial)]  # Creamos una cola FIFO con el nodo inicial\n",
    "\n",
    "find_solution = False\n",
    "\n",
    "# Mientras que la cola no este vacia\n",
    "while len(frontier) != 0:\n",
    "    node = frontier.pop()  # Extraemos el primer nodo de la cola\n",
    "    if problem.goal_test(node.state):  # Comprobamos si hemos alcanzado el estado objetivo\n",
    "        last_node = node\n",
    "        find_solution = True\n",
    "        print(\"Encontramos la solución\")\n",
    "        break\n",
    "\n",
    "    # Agregamos a la cola todos los nodos sucesores del nodo actual\n",
    "    for next_node in node.expand(problem):\n",
    "        frontier.insert(0, next_node)\n",
    "\n",
    "if not find_solution:\n",
    "    print(\"No se encontró la solución\")"
   ]
  },
  {
   "cell_type": "markdown",
   "id": "ee823bed-50b4-4560-b280-4b42fc2da3d8",
   "metadata": {
    "id": "ee823bed-50b4-4560-b280-4b42fc2da3d8"
   },
   "source": [
    "Una vez encontrada, podemos analizar el último nodo del árbol y ver cuánto costó llegar a la solución:"
   ]
  },
  {
   "cell_type": "code",
   "execution_count": 53,
   "id": "d651957d-eab9-48ef-a974-ac257b12d85d",
   "metadata": {
    "ExecuteTime": {
     "end_time": "2025-07-12T19:42:35.636616Z",
     "start_time": "2025-07-12T19:42:35.634508Z"
    },
    "id": "d651957d-eab9-48ef-a974-ac257b12d85d"
   },
   "outputs": [
    {
     "name": "stdout",
     "output_type": "stream",
     "text": [
      "Longitud del camino de la solución: 7.0\n",
      "Profundidad del arbol donde se encontró la solución: 7\n"
     ]
    }
   ],
   "source": [
    "print(f'Longitud del camino de la solución: {last_node.state.accumulated_cost}')\n",
    "print(f'Profundidad del arbol donde se encontró la solución: {last_node.depth}')"
   ]
  },
  {
   "cell_type": "markdown",
   "id": "31a82db6-8dbb-484e-a658-114c2cb6b0c2",
   "metadata": {
    "id": "31a82db6-8dbb-484e-a658-114c2cb6b0c2"
   },
   "source": [
    "Probemos el mismo algoritmo con 4 discos:"
   ]
  },
  {
   "cell_type": "code",
   "execution_count": 54,
   "id": "590cd113-7793-4dfe-b1ac-77fba20bca0e",
   "metadata": {
    "ExecuteTime": {
     "end_time": "2025-07-12T19:42:35.745234Z",
     "start_time": "2025-07-12T19:42:35.741146Z"
    },
    "id": "590cd113-7793-4dfe-b1ac-77fba20bca0e"
   },
   "outputs": [],
   "source": [
    "#initial_state = StatesHanoi([4, 3, 2, 1], [], [], max_disks=4)\n",
    "#goal_state = StatesHanoi([], [], [4, 3, 2, 1], max_disks=4)\n",
    "#problem = ProblemHanoi(initial=initial_state, goal=goal_state)\n",
    "\n",
    "#find_solution = False\n",
    "\n",
    "#while len(frontier) != 0:\n",
    "#    node = frontier.pop()\n",
    "#    if problem.goal_test(node.state):\n",
    "#        last_node = node\n",
    "#        find_solution = True\n",
    "#        print(\"Encontramos la solución\")\n",
    "#        break\n",
    "\n",
    "#    for next_node in node.expand(problem):\n",
    "#        frontier.insert(0, next_node)\n",
    "\n",
    "#if not find_solution:\n",
    "#    print(\"No se encontró la solución\")"
   ]
  },
  {
   "cell_type": "markdown",
   "id": "bf144b34-c3ce-4fb3-b43e-c15b9be7f3f7",
   "metadata": {
    "id": "bf144b34-c3ce-4fb3-b43e-c15b9be7f3f7"
   },
   "source": [
    "Este algoritmo puede tardar bastante tiempo (se puede interrumpir la ejecución si se desea), ya que ocurre un fenómeno que analizamos previamente al ver el árbol de búsqueda:\n",
    "\n",
    "![tree](./img/tree_hanoi3.png)\n",
    "\n",
    "Cuando expandimos un nodo de la frontera, los nuevos nodos pueden tener estados que ya fueron explorados en pasos anteriores, lo que hace que el algoritmo repita caminos y entre en bucles (aunque no infinitos, sí innecesariamente largos).\n",
    "\n",
    "### Versión con control de estados explorados\n",
    "\n",
    "Vamos a crear una variante del algoritmo que consume más memoria, pero evita explorar estados repetidos. Usamos para eso un `set`, estructura ideal para verificar rápidamente si un estado ya fue explorado:"
   ]
  },
  {
   "cell_type": "code",
   "execution_count": 55,
   "id": "437689133f9019c1",
   "metadata": {
    "ExecuteTime": {
     "end_time": "2025-07-12T19:42:35.795578Z",
     "start_time": "2025-07-12T19:42:35.782769Z"
    },
    "collapsed": false,
    "id": "437689133f9019c1",
    "jupyter": {
     "outputs_hidden": false
    }
   },
   "outputs": [
    {
     "name": "stdout",
     "output_type": "stream",
     "text": [
      "Encontramos la solución\n"
     ]
    }
   ],
   "source": [
    "initial_state = StatesHanoi([4, 3, 2, 1], [], [], max_disks=4)\n",
    "goal_state = StatesHanoi([], [], [4, 3, 2, 1], max_disks=4)\n",
    "problem = ProblemHanoi(initial=initial_state, goal=goal_state)\n",
    "\n",
    "frontier = [NodeHanoi(problem.initial)]\n",
    "\n",
    "explored = set()  # Almacena los estados que ya fueron explorados\n",
    "\n",
    "find_solution = False\n",
    "node_explored = 0\n",
    "\n",
    "while len(frontier) != 0:\n",
    "    node = frontier.pop()\n",
    "    node_explored += 1\n",
    "\n",
    "    explored.add(node.state) # Agregamos el estado al set de explorados\n",
    "\n",
    "    if problem.goal_test(node.state):\n",
    "        last_node = node\n",
    "        find_solution = True\n",
    "        print(\"Encontramos la solución\")\n",
    "        break\n",
    "\n",
    "    # Agregamos a la cola todos los nodos sucesores del nodo actual\n",
    "    for next_node in node.expand(problem):\n",
    "        # Solo si el estado del nodo no fue explorado\n",
    "        if next_node.state not in explored:\n",
    "            frontier.insert(0, next_node)\n",
    "\n",
    "if not find_solution:\n",
    "    print(\"No se encontró la solución\")"
   ]
  },
  {
   "cell_type": "markdown",
   "id": "e99d5facedc66d51",
   "metadata": {
    "collapsed": false,
    "id": "e99d5facedc66d51",
    "jupyter": {
     "outputs_hidden": false
    }
   },
   "source": [
    "Una vez que se encuentra la solución, podemos ver:"
   ]
  },
  {
   "cell_type": "code",
   "execution_count": 56,
   "id": "d317320198ec487e",
   "metadata": {
    "ExecuteTime": {
     "end_time": "2025-07-12T19:42:35.805455Z",
     "start_time": "2025-07-12T19:42:35.803673Z"
    },
    "collapsed": false,
    "id": "d317320198ec487e",
    "jupyter": {
     "outputs_hidden": false
    }
   },
   "outputs": [
    {
     "name": "stdout",
     "output_type": "stream",
     "text": [
      "Longitud del camino de la solución: 15.0\n",
      "Profundidad del arbol donde se encontró la solución: 15\n"
     ]
    }
   ],
   "source": [
    "print(f'Longitud del camino de la solución: {last_node.state.accumulated_cost}')\n",
    "print(f'Profundidad del arbol donde se encontró la solución: {last_node.depth}')"
   ]
  },
  {
   "cell_type": "markdown",
   "id": "3abc28f0bb7e6f8c",
   "metadata": {
    "collapsed": false,
    "id": "3abc28f0bb7e6f8c",
    "jupyter": {
     "outputs_hidden": false
    }
   },
   "source": [
    "Como todos los pasos tienen el mismo costo, la **búsqueda primero en anchura** garantiza que el camino encontrado es el más corto posible en términos de número de acciones. Es decir, el algoritmo encontró la solución en la mínima profundidad del árbol.\n",
    "\n",
    "Además, podemos analizar el desempeño del algoritmo:"
   ]
  },
  {
   "cell_type": "code",
   "execution_count": 57,
   "id": "111e1040cca051eb",
   "metadata": {
    "ExecuteTime": {
     "end_time": "2025-07-12T19:42:35.820606Z",
     "start_time": "2025-07-12T19:42:35.818357Z"
    },
    "collapsed": false,
    "id": "111e1040cca051eb",
    "jupyter": {
     "outputs_hidden": false
    }
   },
   "outputs": [
    {
     "name": "stdout",
     "output_type": "stream",
     "text": [
      "216 nodos se expandieron, correspondientes a 71 estados diferentes y 52 nodos quedaron en la frontera\n"
     ]
    }
   ],
   "source": [
    "print(node_explored, \"nodos se expandieron, correspondientes a\", len(explored),\"estados diferentes y\", len(frontier), \"nodos quedaron en la frontera\")"
   ]
  },
  {
   "cell_type": "markdown",
   "id": "39c146465af9c6eb",
   "metadata": {
    "collapsed": false,
    "id": "39c146465af9c6eb",
    "jupyter": {
     "outputs_hidden": false
    }
   },
   "source": [
    "Podemos visualizar el camino desde el estado inicial hasta la solución:"
   ]
  },
  {
   "cell_type": "code",
   "execution_count": 58,
   "id": "887a95e2ba7fe592",
   "metadata": {
    "ExecuteTime": {
     "end_time": "2025-07-12T19:42:35.834933Z",
     "start_time": "2025-07-12T19:42:35.832423Z"
    },
    "collapsed": false,
    "id": "887a95e2ba7fe592",
    "jupyter": {
     "outputs_hidden": false
    }
   },
   "outputs": [
    {
     "name": "stdout",
     "output_type": "stream",
     "text": [
      "<Node HanoiState: 4 3 2 1 |  | >\n",
      "<Node HanoiState: 4 3 2 | 1 | >\n",
      "<Node HanoiState: 4 3 | 1 | 2>\n",
      "<Node HanoiState: 4 3 |  | 2 1>\n",
      "<Node HanoiState: 4 | 3 | 2 1>\n",
      "<Node HanoiState: 4 1 | 3 | 2>\n",
      "<Node HanoiState: 4 1 | 3 2 | >\n",
      "<Node HanoiState: 4 | 3 2 1 | >\n",
      "<Node HanoiState:  | 3 2 1 | 4>\n",
      "<Node HanoiState:  | 3 2 | 4 1>\n",
      "<Node HanoiState: 2 | 3 | 4 1>\n",
      "<Node HanoiState: 2 1 | 3 | 4>\n",
      "<Node HanoiState: 2 1 |  | 4 3>\n",
      "<Node HanoiState: 2 | 1 | 4 3>\n",
      "<Node HanoiState:  | 1 | 4 3 2>\n",
      "<Node HanoiState:  |  | 4 3 2 1>\n"
     ]
    }
   ],
   "source": [
    "for nodos in last_node.path():\n",
    "    print(nodos)"
   ]
  },
  {
   "cell_type": "markdown",
   "id": "67a9e669-d3f8-4558-ab35-facb1929b3a6",
   "metadata": {
    "id": "67a9e669-d3f8-4558-ab35-facb1929b3a6"
   },
   "source": [
    "Y las acciones que el agente debería aplicar para alcanzar el estado objetivo:"
   ]
  },
  {
   "cell_type": "code",
   "execution_count": 59,
   "id": "e5fd973c-4a93-4c90-bda1-23c11b4a3fdb",
   "metadata": {
    "ExecuteTime": {
     "end_time": "2025-07-12T19:42:35.844187Z",
     "start_time": "2025-07-12T19:42:35.841567Z"
    },
    "id": "e5fd973c-4a93-4c90-bda1-23c11b4a3fdb"
   },
   "outputs": [
    {
     "name": "stdout",
     "output_type": "stream",
     "text": [
      "Move disk 1 from 1 to 2\n",
      "Move disk 2 from 1 to 3\n",
      "Move disk 1 from 2 to 3\n",
      "Move disk 3 from 1 to 2\n",
      "Move disk 1 from 3 to 1\n",
      "Move disk 2 from 3 to 2\n",
      "Move disk 1 from 1 to 2\n",
      "Move disk 4 from 1 to 3\n",
      "Move disk 1 from 2 to 3\n",
      "Move disk 2 from 2 to 1\n",
      "Move disk 1 from 3 to 1\n",
      "Move disk 3 from 2 to 3\n",
      "Move disk 1 from 1 to 2\n",
      "Move disk 2 from 1 to 3\n",
      "Move disk 1 from 2 to 3\n"
     ]
    }
   ],
   "source": [
    "for act in last_node.solution():\n",
    "    print(act)"
   ]
  },
  {
   "cell_type": "markdown",
   "id": "e9d6e199-0d51-4b4f-b253-fbd868be31b0",
   "metadata": {
    "id": "e9d6e199-0d51-4b4f-b253-fbd868be31b0"
   },
   "source": [
    "### Creando una función y resolviendo con 5 discos\n",
    "\n",
    "Ahora que tenemos una implementación funcional, vamos a crear una función que aplique el algoritmo de **búsqueda primero en anchura (Breadth-First Search)**, y que retorne tanto la solución encontrada como algunas métricas de ejecución:"
   ]
  },
  {
   "cell_type": "code",
   "execution_count": 60,
   "id": "d58cc9fe-ab05-4ab5-8627-6687c42c558e",
   "metadata": {
    "ExecuteTime": {
     "end_time": "2025-07-12T19:42:35.855359Z",
     "start_time": "2025-07-12T19:42:35.851406Z"
    },
    "id": "d58cc9fe-ab05-4ab5-8627-6687c42c558e"
   },
   "outputs": [],
   "source": [
    "def breadth_first_search(number_disks=5):\n",
    "    # Inicializamos el problema\n",
    "    list_disks = [i for i in range(number_disks, 0, -1)]\n",
    "    initial_state = StatesHanoi(list_disks, [], [], max_disks=number_disks)\n",
    "    goal_state = StatesHanoi([], [], list_disks, max_disks=number_disks)\n",
    "    problem = ProblemHanoi(initial=initial_state, goal=goal_state)\n",
    "\n",
    "    frontier = [NodeHanoi(problem.initial)] # Cola FIFO con el nodo inicial\n",
    "    explored = set() # Conjunto de estados ya visitados\n",
    "\n",
    "    node_explored = 0\n",
    "\n",
    "    goal_disk = None\n",
    "\n",
    "    while len(frontier) != 0:\n",
    "        node = frontier.pop()\n",
    "        node_explored += 1\n",
    "\n",
    "        explored.add(node.state) # Verificamos si llegamos al objetivo\n",
    "\n",
    "        if problem.goal_test(node.state):\n",
    "            metrics = {\n",
    "                \"solution_found\": True,\n",
    "                \"nodes_explored\": node_explored,\n",
    "                \"states_visited\": len(explored),\n",
    "                \"nodes_in_frontier\": len(frontier),\n",
    "                \"max_depth\": node.depth,\n",
    "                \"cost_total\": node.state.accumulated_cost,\n",
    "            }\n",
    "            goal_disk = node\n",
    "            return node, metrics, goal_disk\n",
    "\n",
    "        # Agregamos a la frontera los nodos sucesores que no hayan sido visitados\n",
    "        for next_node in node.expand(problem):\n",
    "            if next_node.state not in explored:\n",
    "                frontier.insert(0, next_node)\n",
    "\n",
    "    # Si no se encuentra solución, devolvemos métricas igualmente\n",
    "    metrics = {\n",
    "        \"solution_found\": False,\n",
    "        \"nodes_explored\": node_explored,\n",
    "        \"states_visited\": len(explored),\n",
    "        \"nodes_in_frontier\": len(frontier),\n",
    "        \"max_depth\": node.depth, # OBS: Si no se encontró la solución, este valor solo tiene sentido en breadth_first_search, en otros casos se debe ir llevando registro de cual fue la máxima profundidad\n",
    "        \"cost_total\": None,\n",
    "    }\n",
    "    return None, metrics, goal_disk"
   ]
  },
  {
   "cell_type": "markdown",
   "id": "5cd0daea-d105-410d-b575-98baf3118abb",
   "metadata": {
    "id": "5cd0daea-d105-410d-b575-98baf3118abb"
   },
   "source": [
    "Ejecutamos con 5 discos:"
   ]
  },
  {
   "cell_type": "code",
   "execution_count": 61,
   "id": "768cc0a3-c2d8-46a0-8008-8648e2858d0e",
   "metadata": {
    "ExecuteTime": {
     "end_time": "2025-07-12T19:42:35.913416Z",
     "start_time": "2025-07-12T19:42:35.870109Z"
    },
    "id": "768cc0a3-c2d8-46a0-8008-8648e2858d0e"
   },
   "outputs": [],
   "source": [
    "solution, metrics, _ = breadth_first_search(number_disks=5)"
   ]
  },
  {
   "cell_type": "markdown",
   "id": "934d0e1b-1791-405f-a53d-0b834ccc5409",
   "metadata": {
    "id": "934d0e1b-1791-405f-a53d-0b834ccc5409"
   },
   "source": [
    "Veamos algunas métricas:"
   ]
  },
  {
   "cell_type": "code",
   "execution_count": 62,
   "id": "43657735-9e67-4931-a4fc-11db96b5735a",
   "metadata": {
    "ExecuteTime": {
     "end_time": "2025-07-12T19:42:35.922848Z",
     "start_time": "2025-07-12T19:42:35.920761Z"
    },
    "id": "43657735-9e67-4931-a4fc-11db96b5735a"
   },
   "outputs": [
    {
     "name": "stdout",
     "output_type": "stream",
     "text": [
      "solution_found: True\n",
      "nodes_explored: 1351\n",
      "states_visited: 233\n",
      "nodes_in_frontier: 285\n",
      "max_depth: 31\n",
      "cost_total: 31.0\n"
     ]
    }
   ],
   "source": [
    "for key, value in metrics.items():\n",
    "    print(f\"{key}: {value}\")"
   ]
  },
  {
   "cell_type": "markdown",
   "id": "32deebf6-2ab1-4573-9aaf-9add84c2939f",
   "metadata": {
    "id": "32deebf6-2ab1-4573-9aaf-9add84c2939f"
   },
   "source": [
    "Para ver el camino completo desde el estado inicial hasta la solución:"
   ]
  },
  {
   "cell_type": "code",
   "execution_count": 63,
   "id": "7c398df5-9dc4-4fae-9181-308f859f2835",
   "metadata": {
    "ExecuteTime": {
     "end_time": "2025-07-12T19:42:35.931473Z",
     "start_time": "2025-07-12T19:42:35.929467Z"
    },
    "id": "7c398df5-9dc4-4fae-9181-308f859f2835"
   },
   "outputs": [
    {
     "name": "stdout",
     "output_type": "stream",
     "text": [
      "<Node HanoiState: 5 4 3 2 1 |  | >\n",
      "<Node HanoiState: 5 4 3 2 |  | 1>\n",
      "<Node HanoiState: 5 4 3 | 2 | 1>\n",
      "<Node HanoiState: 5 4 3 | 2 1 | >\n",
      "<Node HanoiState: 5 4 | 2 1 | 3>\n",
      "<Node HanoiState: 5 4 1 | 2 | 3>\n",
      "<Node HanoiState: 5 4 1 |  | 3 2>\n",
      "<Node HanoiState: 5 4 |  | 3 2 1>\n",
      "<Node HanoiState: 5 | 4 | 3 2 1>\n",
      "<Node HanoiState: 5 | 4 1 | 3 2>\n",
      "<Node HanoiState: 5 2 | 4 1 | 3>\n",
      "<Node HanoiState: 5 2 1 | 4 | 3>\n",
      "<Node HanoiState: 5 2 1 | 4 3 | >\n",
      "<Node HanoiState: 5 2 | 4 3 | 1>\n",
      "<Node HanoiState: 5 | 4 3 2 | 1>\n",
      "<Node HanoiState: 5 | 4 3 2 1 | >\n",
      "<Node HanoiState:  | 4 3 2 1 | 5>\n",
      "<Node HanoiState: 1 | 4 3 2 | 5>\n",
      "<Node HanoiState: 1 | 4 3 | 5 2>\n",
      "<Node HanoiState:  | 4 3 | 5 2 1>\n",
      "<Node HanoiState: 3 | 4 | 5 2 1>\n",
      "<Node HanoiState: 3 | 4 1 | 5 2>\n",
      "<Node HanoiState: 3 2 | 4 1 | 5>\n",
      "<Node HanoiState: 3 2 1 | 4 | 5>\n",
      "<Node HanoiState: 3 2 1 |  | 5 4>\n",
      "<Node HanoiState: 3 2 |  | 5 4 1>\n",
      "<Node HanoiState: 3 | 2 | 5 4 1>\n",
      "<Node HanoiState: 3 | 2 1 | 5 4>\n",
      "<Node HanoiState:  | 2 1 | 5 4 3>\n",
      "<Node HanoiState: 1 | 2 | 5 4 3>\n",
      "<Node HanoiState: 1 |  | 5 4 3 2>\n",
      "<Node HanoiState:  |  | 5 4 3 2 1>\n"
     ]
    }
   ],
   "source": [
    "for nodos in solution.path():\n",
    "    print(nodos)"
   ]
  },
  {
   "cell_type": "markdown",
   "id": "11d79725-95ec-4806-be05-ac0522e49afe",
   "metadata": {
    "id": "11d79725-95ec-4806-be05-ac0522e49afe"
   },
   "source": [
    "Y las acciones que el agente debería aplicar para llegar al objetivo:"
   ]
  },
  {
   "cell_type": "code",
   "execution_count": 64,
   "id": "9c7f1421-be80-45b8-8336-7afe2c2b1ad7",
   "metadata": {
    "ExecuteTime": {
     "end_time": "2025-07-12T19:42:35.945188Z",
     "start_time": "2025-07-12T19:42:35.942614Z"
    },
    "id": "9c7f1421-be80-45b8-8336-7afe2c2b1ad7"
   },
   "outputs": [
    {
     "name": "stdout",
     "output_type": "stream",
     "text": [
      "Move disk 1 from 1 to 3\n",
      "Move disk 2 from 1 to 2\n",
      "Move disk 1 from 3 to 2\n",
      "Move disk 3 from 1 to 3\n",
      "Move disk 1 from 2 to 1\n",
      "Move disk 2 from 2 to 3\n",
      "Move disk 1 from 1 to 3\n",
      "Move disk 4 from 1 to 2\n",
      "Move disk 1 from 3 to 2\n",
      "Move disk 2 from 3 to 1\n",
      "Move disk 1 from 2 to 1\n",
      "Move disk 3 from 3 to 2\n",
      "Move disk 1 from 1 to 3\n",
      "Move disk 2 from 1 to 2\n",
      "Move disk 1 from 3 to 2\n",
      "Move disk 5 from 1 to 3\n",
      "Move disk 1 from 2 to 1\n",
      "Move disk 2 from 2 to 3\n",
      "Move disk 1 from 1 to 3\n",
      "Move disk 3 from 2 to 1\n",
      "Move disk 1 from 3 to 2\n",
      "Move disk 2 from 3 to 1\n",
      "Move disk 1 from 2 to 1\n",
      "Move disk 4 from 2 to 3\n",
      "Move disk 1 from 1 to 3\n",
      "Move disk 2 from 1 to 2\n",
      "Move disk 1 from 3 to 2\n",
      "Move disk 3 from 1 to 3\n",
      "Move disk 1 from 2 to 1\n",
      "Move disk 2 from 2 to 3\n",
      "Move disk 1 from 1 to 3\n"
     ]
    }
   ],
   "source": [
    "for act in solution.solution():\n",
    "    print(act)"
   ]
  },
  {
   "cell_type": "markdown",
   "id": "dded617c-63c0-440b-963e-3e0148ead3df",
   "metadata": {
    "id": "dded617c-63c0-440b-963e-3e0148ead3df"
   },
   "source": [
    "## Medición de performance\n",
    "\n",
    "Por último, si nos preguntamos cómo medir la performance del algoritmo de búsqueda, Python nos ofrece algunas herramientas de *profiling*.\n",
    "\n",
    "### Medir el tiempo de ejecución\n",
    "Podemos utilizar `%%timeit` en notebooks de Jupyter para medir el tiempo de ejecución promedio de una celda:"
   ]
  },
  {
   "cell_type": "code",
   "execution_count": 65,
   "id": "4eb9232e-d2f7-4af9-82ff-496413410420",
   "metadata": {
    "ExecuteTime": {
     "end_time": "2025-07-12T19:42:39.126720Z",
     "start_time": "2025-07-12T19:42:35.958133Z"
    },
    "id": "4eb9232e-d2f7-4af9-82ff-496413410420"
   },
   "outputs": [
    {
     "name": "stdout",
     "output_type": "stream",
     "text": [
      "331 ms ± 61.2 ms per loop (mean ± std. dev. of 7 runs, 1 loop each)\n"
     ]
    }
   ],
   "source": [
    "%%timeit\n",
    "solution, metrics, _ = breadth_first_search(number_disks=5)"
   ]
  },
  {
   "cell_type": "markdown",
   "id": "c8b18f1a-c900-4af5-ad26-3c8c3e96b3ea",
   "metadata": {
    "id": "c8b18f1a-c900-4af5-ad26-3c8c3e96b3ea"
   },
   "source": [
    "En una prueba típica, por ejemplo, podemos observar que la ejecución demora unos 60 milisegundos. Este valor dependerá de la máquina utilizada y solo será significativo si se compara con otros algoritmos ejecutados en las mismas condiciones.\n",
    "\n",
    "### Medir el uso de memoria\n",
    "\n",
    "Medir el uso de memoria es un poco más complejo. Una forma sencilla es monitorear el pico de consumo de memoria RAM durante la ejecución. Para esto podemos usar la biblioteca `tracemalloc`:"
   ]
  },
  {
   "cell_type": "code",
   "execution_count": 66,
   "id": "ef46aea3401b7c52",
   "metadata": {
    "ExecuteTime": {
     "end_time": "2025-07-12T19:42:39.353940Z",
     "start_time": "2025-07-12T19:42:39.131205Z"
    },
    "collapsed": false,
    "id": "ef46aea3401b7c52",
    "jupyter": {
     "outputs_hidden": false
    }
   },
   "outputs": [
    {
     "name": "stdout",
     "output_type": "stream",
     "text": [
      "Pico de memoria ocupada: 1.34 [MB]\n"
     ]
    }
   ],
   "source": [
    "import tracemalloc\n",
    "\n",
    "tracemalloc.start()\n",
    "\n",
    "solution, metrics, _ = breadth_first_search(number_disks=5)\n",
    "\n",
    "# Para medir memoria consumida usamos el pico de memoria\n",
    "_, memory_peak = tracemalloc.get_traced_memory()\n",
    "memory_peak /= 1024*1024\n",
    "tracemalloc.stop()\n",
    "\n",
    "print(f\"Pico de memoria ocupada: {round(memory_peak, 2)} [MB]\", )"
   ]
  },
  {
   "cell_type": "markdown",
   "id": "54273d59",
   "metadata": {
    "id": "54273d59"
   },
   "source": [
    "Con esta estructura, tenemos un algoritmo funcional, evaluable en rendimiento y reutilizable. Desde acá podemos comparar esta implementación de búsqueda con otras variantes como:\n",
    "\n",
    "- Búsqueda en profundidad primero\n",
    "- Búsqueda con costo uniforme\n",
    "- Búsqueda Greedy\n",
    "- Búsqueda A*"
   ]
  },
  {
   "cell_type": "markdown",
   "id": "bee0abf798c2d244",
   "metadata": {},
   "source": [
    "# Implementación de otros algoritmos de búsqueda"
   ]
  },
  {
   "cell_type": "markdown",
   "id": "8f5bf558cb8753a5",
   "metadata": {},
   "source": [
    "### Funciones de ayuda"
   ]
  },
  {
   "cell_type": "markdown",
   "id": "2c547ec9e7ff8c0b",
   "metadata": {},
   "source": [
    "#### Guardar secuencia de movimientos"
   ]
  },
  {
   "cell_type": "code",
   "execution_count": 67,
   "id": "c376bf15bf254b9",
   "metadata": {
    "ExecuteTime": {
     "end_time": "2025-07-12T19:42:40.637567Z",
     "start_time": "2025-07-12T19:42:40.631271Z"
    }
   },
   "outputs": [],
   "source": [
    "import json\n",
    "\n",
    "def save_sequence(filename):\n",
    "    path = goal_node.path()\n",
    "    \n",
    "    movimientos = []\n",
    "    for node in path:\n",
    "        if node.action:\n",
    "            texto = str(node.action)  # Ej: \"Move disk 1 from 1 to 3\"\n",
    "            partes = texto.split()\n",
    "            movimientos.append({\n",
    "                \"disk\": int(partes[2]),\n",
    "                \"peg_start\": int(partes[4]),\n",
    "                \"peg_end\": int(partes[6])\n",
    "            })\n",
    "    \n",
    "    with open(f\"simulator/{filename}.json\", \"w\") as f:\n",
    "        json.dump(movimientos, f, indent=4)"
   ]
  },
  {
   "cell_type": "markdown",
   "id": "b09895dfd8bd209b",
   "metadata": {},
   "source": [
    "#### Guardar estado inicial"
   ]
  },
  {
   "cell_type": "code",
   "execution_count": 68,
   "id": "d7476e9ac513024c",
   "metadata": {
    "ExecuteTime": {
     "end_time": "2025-07-12T19:42:40.657327Z",
     "start_time": "2025-07-12T19:42:40.655252Z"
    }
   },
   "outputs": [],
   "source": [
    "\n",
    "def save_initial_state(filename):\n",
    "    initial_state_greedy = {\n",
    "        \"peg_1\": [5, 4, 3, 2, 1],\n",
    "        \"peg_2\": [],\n",
    "        \"peg_3\": []\n",
    "    }\n",
    "    \n",
    "    with open(f\"simulator/{filename}.json\", \"w\") as f:\n",
    "        json.dump(initial_state_greedy, f, indent=4)"
   ]
  },
  {
   "cell_type": "code",
   "execution_count": 69,
   "id": "d72644780e36ddc0",
   "metadata": {
    "ExecuteTime": {
     "end_time": "2025-07-12T19:42:44.251186Z",
     "start_time": "2025-07-12T19:42:40.668217Z"
    }
   },
   "outputs": [],
   "source": [
    "import matplotlib.pyplot as plt\n",
    "import matplotlib.patches as patches\n",
    "import time\n",
    "import json\n",
    "from IPython.display import clear_output\n",
    "\n",
    "def simulate_movements(sequence_file, initial_state_file):\n",
    "    # Cargar archivos\n",
    "    with open(f\"simulator/{initial_state_file}.json\") as f:\n",
    "        initial_state = json.load(f)\n",
    "    \n",
    "    with open(f\"simulator/{sequence_file}.json\") as f:\n",
    "        sequence = json.load(f)\n",
    "    \n",
    "    # Estado actual\n",
    "    state = {\n",
    "        1: initial_state['peg_1'],  # invertimos para mostrar base abajo\n",
    "        2: initial_state['peg_2'],\n",
    "        3: initial_state['peg_3']\n",
    "    }\n",
    "    \n",
    "    # Dibujar torres\n",
    "    def draw_state(state, step_num=None, delay=1):\n",
    "        clear_output(wait=True)\n",
    "        plt.figure(figsize=(8, 4))\n",
    "        peg_positions = [1, 3, 5]\n",
    "        peg_labels = {1: \"Torre 1\", 2: \"Torre 2\", 3: \"Torre 3\"}\n",
    "        max_disks = sum(len(v) for v in state.values())\n",
    "    \n",
    "        # Dibujar varillas\n",
    "        for peg_x in peg_positions:\n",
    "            plt.plot([peg_x, peg_x], [0, max_disks + 1], 'k', lw=2)\n",
    "    \n",
    "        # Dibujar discos\n",
    "        for peg, peg_x in zip(state, peg_positions):\n",
    "            for level, disk in enumerate(state[peg]):\n",
    "                width = disk * 0.4\n",
    "                rect = patches.Rectangle((peg_x - width / 2, level), width, 0.8, color=f\"C{disk % 10}\")\n",
    "                plt.gca().add_patch(rect)\n",
    "                plt.text(peg_x, level + 0.3, str(disk), ha='center', va='center', color='white', fontsize=9)\n",
    "    \n",
    "        # Etiquetas\n",
    "        plt.xticks(peg_positions, [\"Torre 1\", \"Torre 2\", \"Torre 3\"])\n",
    "        plt.yticks([])\n",
    "        if step_num is not None:\n",
    "            plt.title(f\"Paso {step_num}\")\n",
    "        plt.xlim(0, 6)\n",
    "        plt.ylim(0, max_disks + 2)\n",
    "        plt.gca().set_aspect('equal')\n",
    "        plt.axis('off')\n",
    "        plt.show()\n",
    "        time.sleep(delay)\n",
    "    \n",
    "    # Simular movimientos\n",
    "    for i, move in enumerate(sequence, 1):\n",
    "        draw_state(state, step_num=i)\n",
    "        disk = move[\"disk\"]\n",
    "        origin = move[\"peg_start\"]\n",
    "        target = move[\"peg_end\"]\n",
    "        state[origin].remove(disk)\n",
    "        state[target].append(disk)\n",
    "    \n",
    "    # Mostrar estado final\n",
    "    draw_state(state, step_num=\"Final\", delay=0)"
   ]
  },
  {
   "cell_type": "markdown",
   "id": "b47e679b",
   "metadata": {
    "id": "b47e679b"
   },
   "source": [
    "## Búsqueda Primero en Profundidad\n",
    "\n",
    "Cambio FIFO por LIFO (append en lugar de insert)."
   ]
  },
  {
   "cell_type": "markdown",
   "id": "fc8da78d",
   "metadata": {
    "id": "fc8da78d"
   },
   "source": [
    "### Funcion"
   ]
  },
  {
   "cell_type": "code",
   "execution_count": 70,
   "id": "f8e703cc",
   "metadata": {
    "ExecuteTime": {
     "end_time": "2025-07-12T19:42:44.262424Z",
     "start_time": "2025-07-12T19:42:44.258958Z"
    },
    "id": "f8e703cc"
   },
   "outputs": [],
   "source": [
    "def depth_first_search(number_disks=5):\n",
    "    # Inicializamos el problema\n",
    "    list_disks = [i for i in range(number_disks, 0, -1)]\n",
    "    initial_state = StatesHanoi(list_disks, [], [], max_disks=number_disks)\n",
    "    goal_state = StatesHanoi([], [], list_disks, max_disks=number_disks)\n",
    "    problem = ProblemHanoi(initial=initial_state, goal=goal_state)\n",
    "\n",
    "    frontier = [NodeHanoi(problem.initial)] # Cola con el nodo inicial\n",
    "    explored = set() # Conjunto de estados ya visitados\n",
    "\n",
    "    node_explored = 0\n",
    "\n",
    "    goal_node = None\n",
    "\n",
    "    while len(frontier) != 0:\n",
    "        node = frontier.pop()\n",
    "        node_explored += 1\n",
    "\n",
    "        explored.add(node.state) # Verificamos si llegamos al objetivo\n",
    "\n",
    "        if problem.goal_test(node.state):\n",
    "            metrics = {\n",
    "                \"solution_found\": True,\n",
    "                \"nodes_explored\": node_explored,\n",
    "                \"states_visited\": len(explored),\n",
    "                \"nodes_in_frontier\": len(frontier),\n",
    "                \"max_depth\": node.depth,\n",
    "                \"cost_total\": node.state.accumulated_cost,\n",
    "            }\n",
    "            goal_node = node\n",
    "            return node, metrics, goal_node\n",
    "\n",
    "        # Agregamos a la frontera los nodos sucesores que no hayan sido visitados\n",
    "        for next_node in node.expand(problem):\n",
    "            if next_node.state not in explored:\n",
    "                frontier.append(next_node) # LIFO -> Append\n",
    "\n",
    "    # Si no se encuentra solución, devolvemos métricas igualmente\n",
    "    metrics = {\n",
    "        \"solution_found\": False,\n",
    "        \"nodes_explored\": node_explored,\n",
    "        \"states_visited\": len(explored),\n",
    "        \"nodes_in_frontier\": len(frontier),\n",
    "        \"max_depth\": node.depth, # OBS: Si no se encontró la solución, este valor solo tiene sentido en breadth_first_search, en otros casos se debe ir llevando registro de cual fue la máxima profundidad\n",
    "        \"cost_total\": None,\n",
    "    }\n",
    "\n",
    "    return None, metrics, goal_node"
   ]
  },
  {
   "cell_type": "markdown",
   "id": "80586f64",
   "metadata": {
    "id": "80586f64"
   },
   "source": [
    "### Ejecución"
   ]
  },
  {
   "cell_type": "code",
   "execution_count": 71,
   "id": "e1270d8a",
   "metadata": {
    "ExecuteTime": {
     "end_time": "2025-07-12T19:42:44.283450Z",
     "start_time": "2025-07-12T19:42:44.276002Z"
    },
    "id": "e1270d8a"
   },
   "outputs": [],
   "source": [
    "solution, metrics, _ = depth_first_search(number_disks=5)"
   ]
  },
  {
   "cell_type": "markdown",
   "id": "f6c7bd30",
   "metadata": {
    "id": "f6c7bd30"
   },
   "source": [
    "Métricas:"
   ]
  },
  {
   "cell_type": "code",
   "execution_count": 72,
   "id": "491e92cf",
   "metadata": {
    "ExecuteTime": {
     "end_time": "2025-07-12T19:42:44.315045Z",
     "start_time": "2025-07-12T19:42:44.312245Z"
    },
    "id": "491e92cf"
   },
   "outputs": [
    {
     "name": "stdout",
     "output_type": "stream",
     "text": [
      "solution_found: True\n",
      "nodes_explored: 122\n",
      "states_visited: 122\n",
      "nodes_in_frontier: 63\n",
      "max_depth: 121\n",
      "cost_total: 121.0\n"
     ]
    }
   ],
   "source": [
    "for key, value in metrics.items():\n",
    "    print(f\"{key}: {value}\")"
   ]
  },
  {
   "cell_type": "markdown",
   "id": "5334a70b",
   "metadata": {
    "id": "5334a70b"
   },
   "source": [
    "Camino:"
   ]
  },
  {
   "cell_type": "code",
   "execution_count": 73,
   "id": "34500880",
   "metadata": {
    "ExecuteTime": {
     "end_time": "2025-07-12T19:42:44.348261Z",
     "start_time": "2025-07-12T19:42:44.344561Z"
    },
    "id": "34500880"
   },
   "outputs": [
    {
     "name": "stdout",
     "output_type": "stream",
     "text": [
      "<Node HanoiState: 5 4 3 2 1 |  | >\n",
      "<Node HanoiState: 5 4 3 2 |  | 1>\n",
      "<Node HanoiState: 5 4 3 2 | 1 | >\n",
      "<Node HanoiState: 5 4 3 | 1 | 2>\n",
      "<Node HanoiState: 5 4 3 |  | 2 1>\n",
      "<Node HanoiState: 5 4 3 1 |  | 2>\n",
      "<Node HanoiState: 5 4 3 1 | 2 | >\n",
      "<Node HanoiState: 5 4 3 | 2 | 1>\n",
      "<Node HanoiState: 5 4 3 | 2 1 | >\n",
      "<Node HanoiState: 5 4 | 2 1 | 3>\n",
      "<Node HanoiState: 5 4 | 2 | 3 1>\n",
      "<Node HanoiState: 5 4 1 | 2 | 3>\n",
      "<Node HanoiState: 5 4 1 |  | 3 2>\n",
      "<Node HanoiState: 5 4 |  | 3 2 1>\n",
      "<Node HanoiState: 5 4 | 1 | 3 2>\n",
      "<Node HanoiState: 5 4 2 | 1 | 3>\n",
      "<Node HanoiState: 5 4 2 |  | 3 1>\n",
      "<Node HanoiState: 5 4 2 1 |  | 3>\n",
      "<Node HanoiState: 5 4 2 1 | 3 | >\n",
      "<Node HanoiState: 5 4 2 | 3 | 1>\n",
      "<Node HanoiState: 5 4 2 | 3 1 | >\n",
      "<Node HanoiState: 5 4 | 3 1 | 2>\n",
      "<Node HanoiState: 5 4 | 3 | 2 1>\n",
      "<Node HanoiState: 5 4 1 | 3 | 2>\n",
      "<Node HanoiState: 5 4 1 | 3 2 | >\n",
      "<Node HanoiState: 5 4 | 3 2 | 1>\n",
      "<Node HanoiState: 5 4 | 3 2 1 | >\n",
      "<Node HanoiState: 5 | 3 2 1 | 4>\n",
      "<Node HanoiState: 5 | 3 2 | 4 1>\n",
      "<Node HanoiState: 5 1 | 3 2 | 4>\n",
      "<Node HanoiState: 5 1 | 3 | 4 2>\n",
      "<Node HanoiState: 5 | 3 | 4 2 1>\n",
      "<Node HanoiState: 5 | 3 1 | 4 2>\n",
      "<Node HanoiState: 5 2 | 3 1 | 4>\n",
      "<Node HanoiState: 5 2 | 3 | 4 1>\n",
      "<Node HanoiState: 5 2 1 | 3 | 4>\n",
      "<Node HanoiState: 5 2 1 |  | 4 3>\n",
      "<Node HanoiState: 5 2 |  | 4 3 1>\n",
      "<Node HanoiState: 5 2 | 1 | 4 3>\n",
      "<Node HanoiState: 5 | 1 | 4 3 2>\n",
      "<Node HanoiState: 5 |  | 4 3 2 1>\n",
      "<Node HanoiState: 5 1 |  | 4 3 2>\n",
      "<Node HanoiState: 5 1 | 2 | 4 3>\n",
      "<Node HanoiState: 5 | 2 | 4 3 1>\n",
      "<Node HanoiState: 5 | 2 1 | 4 3>\n",
      "<Node HanoiState: 5 3 | 2 1 | 4>\n",
      "<Node HanoiState: 5 3 | 2 | 4 1>\n",
      "<Node HanoiState: 5 3 1 | 2 | 4>\n",
      "<Node HanoiState: 5 3 1 |  | 4 2>\n",
      "<Node HanoiState: 5 3 |  | 4 2 1>\n",
      "<Node HanoiState: 5 3 | 1 | 4 2>\n",
      "<Node HanoiState: 5 3 2 | 1 | 4>\n",
      "<Node HanoiState: 5 3 2 |  | 4 1>\n",
      "<Node HanoiState: 5 3 2 1 |  | 4>\n",
      "<Node HanoiState: 5 3 2 1 | 4 | >\n",
      "<Node HanoiState: 5 3 2 | 4 | 1>\n",
      "<Node HanoiState: 5 3 2 | 4 1 | >\n",
      "<Node HanoiState: 5 3 | 4 1 | 2>\n",
      "<Node HanoiState: 5 3 | 4 | 2 1>\n",
      "<Node HanoiState: 5 3 1 | 4 | 2>\n",
      "<Node HanoiState: 5 3 1 | 4 2 | >\n",
      "<Node HanoiState: 5 3 | 4 2 | 1>\n",
      "<Node HanoiState: 5 3 | 4 2 1 | >\n",
      "<Node HanoiState: 5 | 4 2 1 | 3>\n",
      "<Node HanoiState: 5 | 4 2 | 3 1>\n",
      "<Node HanoiState: 5 1 | 4 2 | 3>\n",
      "<Node HanoiState: 5 1 | 4 | 3 2>\n",
      "<Node HanoiState: 5 | 4 | 3 2 1>\n",
      "<Node HanoiState: 5 | 4 1 | 3 2>\n",
      "<Node HanoiState: 5 2 | 4 1 | 3>\n",
      "<Node HanoiState: 5 2 | 4 | 3 1>\n",
      "<Node HanoiState: 5 2 1 | 4 | 3>\n",
      "<Node HanoiState: 5 2 1 | 4 3 | >\n",
      "<Node HanoiState: 5 2 | 4 3 | 1>\n",
      "<Node HanoiState: 5 2 | 4 3 1 | >\n",
      "<Node HanoiState: 5 | 4 3 1 | 2>\n",
      "<Node HanoiState: 5 | 4 3 | 2 1>\n",
      "<Node HanoiState: 5 1 | 4 3 | 2>\n",
      "<Node HanoiState: 5 1 | 4 3 2 | >\n",
      "<Node HanoiState: 5 | 4 3 2 | 1>\n",
      "<Node HanoiState: 5 | 4 3 2 1 | >\n",
      "<Node HanoiState:  | 4 3 2 1 | 5>\n",
      "<Node HanoiState:  | 4 3 2 | 5 1>\n",
      "<Node HanoiState: 1 | 4 3 2 | 5>\n",
      "<Node HanoiState: 1 | 4 3 | 5 2>\n",
      "<Node HanoiState:  | 4 3 | 5 2 1>\n",
      "<Node HanoiState:  | 4 3 1 | 5 2>\n",
      "<Node HanoiState: 2 | 4 3 1 | 5>\n",
      "<Node HanoiState: 2 | 4 3 | 5 1>\n",
      "<Node HanoiState: 2 1 | 4 3 | 5>\n",
      "<Node HanoiState: 2 1 | 4 | 5 3>\n",
      "<Node HanoiState: 2 | 4 | 5 3 1>\n",
      "<Node HanoiState: 2 | 4 1 | 5 3>\n",
      "<Node HanoiState:  | 4 1 | 5 3 2>\n",
      "<Node HanoiState:  | 4 | 5 3 2 1>\n",
      "<Node HanoiState: 1 | 4 | 5 3 2>\n",
      "<Node HanoiState: 1 | 4 2 | 5 3>\n",
      "<Node HanoiState:  | 4 2 | 5 3 1>\n",
      "<Node HanoiState:  | 4 2 1 | 5 3>\n",
      "<Node HanoiState: 3 | 4 2 1 | 5>\n",
      "<Node HanoiState: 3 | 4 2 | 5 1>\n",
      "<Node HanoiState: 3 1 | 4 2 | 5>\n",
      "<Node HanoiState: 3 1 | 4 | 5 2>\n",
      "<Node HanoiState: 3 | 4 | 5 2 1>\n",
      "<Node HanoiState: 3 | 4 1 | 5 2>\n",
      "<Node HanoiState: 3 2 | 4 1 | 5>\n",
      "<Node HanoiState: 3 2 | 4 | 5 1>\n",
      "<Node HanoiState: 3 2 1 | 4 | 5>\n",
      "<Node HanoiState: 3 2 1 |  | 5 4>\n",
      "<Node HanoiState: 3 2 |  | 5 4 1>\n",
      "<Node HanoiState: 3 2 | 1 | 5 4>\n",
      "<Node HanoiState: 3 | 1 | 5 4 2>\n",
      "<Node HanoiState: 3 |  | 5 4 2 1>\n",
      "<Node HanoiState: 3 1 |  | 5 4 2>\n",
      "<Node HanoiState: 3 1 | 2 | 5 4>\n",
      "<Node HanoiState: 3 | 2 | 5 4 1>\n",
      "<Node HanoiState: 3 | 2 1 | 5 4>\n",
      "<Node HanoiState:  | 2 1 | 5 4 3>\n",
      "<Node HanoiState:  | 2 | 5 4 3 1>\n",
      "<Node HanoiState: 1 | 2 | 5 4 3>\n",
      "<Node HanoiState: 1 |  | 5 4 3 2>\n",
      "<Node HanoiState:  |  | 5 4 3 2 1>\n"
     ]
    }
   ],
   "source": [
    "for nodos in solution.path():\n",
    "    print(nodos)"
   ]
  },
  {
   "cell_type": "markdown",
   "id": "fe050444",
   "metadata": {
    "id": "fe050444"
   },
   "source": [
    "Performance:"
   ]
  },
  {
   "cell_type": "code",
   "execution_count": 74,
   "id": "5fb454cc",
   "metadata": {
    "ExecuteTime": {
     "end_time": "2025-07-12T19:42:47.212798Z",
     "start_time": "2025-07-12T19:42:44.387048Z"
    },
    "colab": {
     "base_uri": "https://localhost:8080/"
    },
    "id": "5fb454cc",
    "outputId": "d91ff368-91d2-45c4-bab0-77065bea2ed7"
   },
   "outputs": [
    {
     "name": "stdout",
     "output_type": "stream",
     "text": [
      "18.6 ms ± 3.82 ms per loop (mean ± std. dev. of 7 runs, 10 loops each)\n"
     ]
    }
   ],
   "source": [
    "%%timeit\n",
    "solution, metrics, _ = depth_first_search(number_disks=5)"
   ]
  },
  {
   "cell_type": "code",
   "execution_count": 75,
   "id": "37c2694e",
   "metadata": {
    "ExecuteTime": {
     "end_time": "2025-07-12T19:42:47.253533Z",
     "start_time": "2025-07-12T19:42:47.227160Z"
    },
    "colab": {
     "base_uri": "https://localhost:8080/"
    },
    "id": "37c2694e",
    "outputId": "86c17377-4a8d-4fb0-a810-8b09b2ed1cef"
   },
   "outputs": [
    {
     "name": "stdout",
     "output_type": "stream",
     "text": [
      "Pico de memoria ocupada: 0.35 [MB]\n"
     ]
    }
   ],
   "source": [
    "import tracemalloc\n",
    "\n",
    "tracemalloc.start()\n",
    "\n",
    "solution, metrics, _ = depth_first_search(number_disks=5)\n",
    "\n",
    "# Para medir memoria consumida usamos el pico de memoria\n",
    "_, memory_peak = tracemalloc.get_traced_memory()\n",
    "memory_peak /= 1024*1024\n",
    "tracemalloc.stop()\n",
    "\n",
    "print(f\"Pico de memoria ocupada: {round(memory_peak, 2)} [MB]\", )"
   ]
  },
  {
   "cell_type": "markdown",
   "id": "67c33a19",
   "metadata": {
    "id": "67c33a19"
   },
   "source": [
    "## Heuristica"
   ]
  },
  {
   "cell_type": "code",
   "execution_count": 76,
   "id": "9495ef21",
   "metadata": {
    "ExecuteTime": {
     "end_time": "2025-07-12T19:42:47.270250Z",
     "start_time": "2025-07-12T19:42:47.267060Z"
    },
    "colab": {
     "base_uri": "https://localhost:8080/"
    },
    "id": "9495ef21",
    "outputId": "1b448435-08be-4fba-dae1-2383d5e9164a"
   },
   "outputs": [
    {
     "data": {
      "text/plain": [
       "1"
      ]
     },
     "execution_count": 76,
     "metadata": {},
     "output_type": "execute_result"
    }
   ],
   "source": [
    "# 1 - Numero de discos fuera de ultima varilla\n",
    "\n",
    "def heuristic_func1(node: NodeHanoi) -> int:\n",
    "\n",
    "    return sum(len(rod) for rod in node.state.rods[:-1])\n",
    "\n",
    "heuristic_func1(NodeHanoi(StatesHanoi([2], [], [3, 1], max_disks=3)))"
   ]
  },
  {
   "cell_type": "code",
   "execution_count": 77,
   "id": "1d184a67",
   "metadata": {
    "ExecuteTime": {
     "end_time": "2025-07-12T19:42:47.301906Z",
     "start_time": "2025-07-12T19:42:47.297571Z"
    },
    "colab": {
     "base_uri": "https://localhost:8080/"
    },
    "id": "1d184a67",
    "outputId": "12303322-51ca-4729-de74-687b3a4fa326"
   },
   "outputs": [
    {
     "data": {
      "text/plain": [
       "1"
      ]
     },
     "execution_count": 77,
     "metadata": {},
     "output_type": "execute_result"
    }
   ],
   "source": [
    "# 2 - Numero de discos fuera de ultima varilla mas\n",
    "#     numero de discos de la ultima varilla si no esta debajo el mas grande o numero de discos a partir del cual estan mal apilados\n",
    "\n",
    "def heuristic_func2(node: NodeHanoi) -> int:\n",
    "\n",
    "    rods = node.state.rods\n",
    "\n",
    "    # Numero de discos fuera de ultima varilla\n",
    "\n",
    "    not_in_last_rod = sum(len(rod) for rod in rods[:-1])\n",
    "\n",
    "    # Analiza ultima varilla\n",
    "\n",
    "    last_rod = rods[-1]\n",
    "    wrong_in_last_rod = 0\n",
    "\n",
    "    # Verifica si el disco de más abajo es el más grande\n",
    "\n",
    "    if last_rod:\n",
    "\n",
    "        if  last_rod[0] != max(max(rod) for rod in rods if rod):\n",
    "            wrong_in_last_rod = len(last_rod)\n",
    "\n",
    "        # Recorre desde abajo hacia arriba, y encuentra el primer disco mal apilado\n",
    "\n",
    "        else:\n",
    "            for i in range(len(last_rod) - 1):\n",
    "                if last_rod[i] < last_rod[i + 1]:\n",
    "                    wrong_in_last_rod = len(last_rod) - i - 1  # cantidad desde el disco mal puesto hasta arriba\n",
    "\n",
    "    return not_in_last_rod + wrong_in_last_rod\n",
    "\n",
    "heuristic_func2(NodeHanoi(StatesHanoi([2], [], [3, 1], max_disks=3)))"
   ]
  },
  {
   "cell_type": "markdown",
   "id": "01e44690",
   "metadata": {
    "id": "01e44690"
   },
   "source": [
    "## Búsqueda Voraz\n",
    "\n",
    "Uso cola prioritaria."
   ]
  },
  {
   "cell_type": "code",
   "execution_count": 78,
   "id": "378b1646",
   "metadata": {
    "ExecuteTime": {
     "end_time": "2025-07-12T19:42:47.330641Z",
     "start_time": "2025-07-12T19:42:47.325721Z"
    },
    "id": "378b1646"
   },
   "outputs": [],
   "source": [
    "from aima_libs.aima import PriorityQueue as AimaPriorityQueue\n",
    "\n",
    "def greedy_search(number_disks=5, heuristic=heuristic_func1):\n",
    "    # Inicializamos el problema\n",
    "    list_disks = [i for i in range(number_disks, 0, -1)]\n",
    "    initial_state = StatesHanoi(list_disks, [], [], max_disks=number_disks)\n",
    "    goal_state = StatesHanoi([], [], list_disks, max_disks=number_disks)\n",
    "    problem = ProblemHanoi(initial=initial_state, goal=goal_state)\n",
    "\n",
    "    frontier = AimaPriorityQueue(order='min', f=heuristic)  # Cola Prioritaria AIMA\n",
    "    initial_node = NodeHanoi(problem.initial) # Nodo inicial\n",
    "    frontier.append(initial_node) # Agrega el nodo inicial\n",
    "\n",
    "    explored = set() # Conjunto de estados ya visitados\n",
    "\n",
    "    node_explored = 0\n",
    "\n",
    "    goal_disk = None\n",
    "\n",
    "    while len(frontier) > 0:\n",
    "        _, node = frontier.pop()\n",
    "        node_explored += 1\n",
    "\n",
    "        explored.add(node.state) # Verificamos si llegamos al objetivo\n",
    "\n",
    "        if problem.goal_test(node.state):\n",
    "            metrics = {\n",
    "                \"solution_found\": True,\n",
    "                \"nodes_explored\": node_explored,\n",
    "                \"states_visited\": len(explored),\n",
    "                \"nodes_in_frontier\": len(frontier),\n",
    "                \"max_depth\": node.depth,\n",
    "                \"cost_total\": node.state.accumulated_cost,\n",
    "            }\n",
    "            goal_disk = node\n",
    "            return node, metrics, goal_disk\n",
    "\n",
    "        # Agregamos a la frontera los nodos sucesores que no hayan sido visitados\n",
    "        for next_node in node.expand(problem):\n",
    "            if next_node.state not in explored:\n",
    "                frontier.append((next_node))\n",
    "\n",
    "    # Si no se encuentra solución, devolvemos métricas igualmente\n",
    "    metrics = {\n",
    "        \"solution_found\": False,\n",
    "        \"nodes_explored\": node_explored,\n",
    "        \"states_visited\": len(explored),\n",
    "        \"nodes_in_frontier\": len(frontier),\n",
    "        \"max_depth\": node.depth, # OBS: Si no se encontró la solución, este valor solo tiene sentido en breadth_first_search, en otros casos se debe ir llevando registro de cual fue la máxima profundidad\n",
    "        \"cost_total\": None,\n",
    "    }\n",
    "    return None, metrics, goal_disk"
   ]
  },
  {
   "cell_type": "markdown",
   "id": "c98bce7f",
   "metadata": {
    "id": "c98bce7f"
   },
   "source": [
    "## Búsqueda A*\n",
    "\n",
    "Uso cola prioritaria."
   ]
  },
  {
   "cell_type": "code",
   "execution_count": 79,
   "id": "3b1345b8",
   "metadata": {
    "ExecuteTime": {
     "end_time": "2025-07-12T19:42:47.351987Z",
     "start_time": "2025-07-12T19:42:47.347819Z"
    },
    "id": "3b1345b8"
   },
   "outputs": [],
   "source": [
    "from aima_libs.aima import PriorityQueue as AimaPriorityQueue\n",
    "\n",
    "def astar_search(number_disks=5, heuristic=heuristic_func1):\n",
    "\n",
    "    def priority_func(node: NodeHanoi) -> int:\n",
    "        return node.path_cost + heuristic(node)\n",
    "\n",
    "    # Inicializamos el problema\n",
    "    list_disks = [i for i in range(number_disks, 0, -1)]\n",
    "    initial_state = StatesHanoi(list_disks, [], [], max_disks=number_disks)\n",
    "    goal_state = StatesHanoi([], [], list_disks, max_disks=number_disks)\n",
    "    problem = ProblemHanoi(initial=initial_state, goal=goal_state)\n",
    "\n",
    "    frontier = AimaPriorityQueue(order='min', f=priority_func)  # Cola Prioritaria AIMA\n",
    "    initial_node = NodeHanoi(problem.initial) # Nodo inicial\n",
    "    frontier.append(initial_node) # Agrega el nodo inicial\n",
    "\n",
    "    explored = set() # Conjunto de estados ya visitados\n",
    "\n",
    "    node_explored = 0\n",
    "\n",
    "    goal_disk = None\n",
    "\n",
    "    while len(frontier) > 0:\n",
    "        _, node = frontier.pop()\n",
    "        node_explored += 1\n",
    "\n",
    "        explored.add(node.state) # Verificamos si llegamos al objetivo\n",
    "\n",
    "        if problem.goal_test(node.state):\n",
    "            metrics = {\n",
    "                \"solution_found\": True,\n",
    "                \"nodes_explored\": node_explored,\n",
    "                \"states_visited\": len(explored),\n",
    "                \"nodes_in_frontier\": len(frontier),\n",
    "                \"max_depth\": node.depth,\n",
    "                \"cost_total\": node.state.accumulated_cost,\n",
    "            }\n",
    "            goal_disk = node\n",
    "            return node, metrics, goal_disk\n",
    "\n",
    "        # Agregamos a la frontera los nodos sucesores que no hayan sido visitados\n",
    "        for next_node in node.expand(problem):\n",
    "            if next_node.state not in explored:\n",
    "                frontier.append((next_node))\n",
    "\n",
    "    # Si no se encuentra solución, devolvemos métricas igualmente\n",
    "    metrics = {\n",
    "        \"solution_found\": False,\n",
    "        \"nodes_explored\": node_explored,\n",
    "        \"states_visited\": len(explored),\n",
    "        \"nodes_in_frontier\": len(frontier),\n",
    "        \"max_depth\": node.depth, # OBS: Si no se encontró la solución, este valor solo tiene sentido en breadth_first_search, en otros casos se debe ir llevando registro de cual fue la máxima profundidad\n",
    "        \"cost_total\": None,\n",
    "    }\n",
    "    return None, metrics, goal_disk"
   ]
  },
  {
   "cell_type": "markdown",
   "id": "8c42810e19a9540a",
   "metadata": {},
   "source": [
    "## Búsqueda por Dijkstra"
   ]
  },
  {
   "cell_type": "code",
   "execution_count": 80,
   "id": "f38a71aae95762f0",
   "metadata": {
    "ExecuteTime": {
     "end_time": "2025-07-12T19:42:47.365124Z",
     "start_time": "2025-07-12T19:42:47.361077Z"
    }
   },
   "outputs": [],
   "source": [
    "from aima_libs.aima import PriorityQueue as AimaPriorityQueue\n",
    "\n",
    "def dijkstra_search(number_disks=5):\n",
    "\n",
    "\n",
    "    def dijkstra_priority_func(node: NodeHanoi) -> int:\n",
    "        return node.path_cost\n",
    "\n",
    "    # Inicializamos el problema\n",
    "    list_disks = [i for i in range(number_disks, 0, -1)]\n",
    "    initial_state = StatesHanoi(list_disks, [], [], max_disks=number_disks)\n",
    "    goal_state = StatesHanoi([], [], list_disks, max_disks=number_disks)\n",
    "    problem = ProblemHanoi(initial=initial_state, goal=goal_state)\n",
    "\n",
    "    frontier = AimaPriorityQueue(order='min', f=dijkstra_priority_func)\n",
    "    initial_node = NodeHanoi(problem.initial)\n",
    "    frontier.append(initial_node)\n",
    "    explored = set() # Conjunto de estados ya visitados\n",
    "\n",
    "    node_explored = 0\n",
    "\n",
    "    goal_node = None\n",
    "\n",
    "    while len(frontier) > 0:\n",
    "        _, node = frontier.pop()\n",
    "        node_explored += 1\n",
    "\n",
    "        explored.add(node.state) # Verificamos si llegamos al objetivo\n",
    "\n",
    "        if problem.goal_test(node.state):\n",
    "            metrics = {\n",
    "                \"solution_found\": True,\n",
    "                \"nodes_explored\": node_explored,\n",
    "                \"states_visited\": len(explored),\n",
    "                \"nodes_in_frontier\": len(frontier),\n",
    "                \"max_depth\": node.depth,\n",
    "                \"cost_total\": node.state.accumulated_cost,\n",
    "            }\n",
    "            goal_node = node\n",
    "            return node, metrics, goal_node\n",
    "\n",
    "        # Agregamos a la frontera los nodos sucesores que no hayan sido visitados\n",
    "        next_nodes = [next_node for next_node in node.expand(problem) if next_node.state not in explored]\n",
    "        frontier.extend(next_nodes)\n",
    "\n",
    "    # Si no se encuentra solución, devolvemos métricas igualmente\n",
    "    metrics = {\n",
    "        \"solution_found\": False,\n",
    "        \"nodes_explored\": node_explored,\n",
    "        \"states_visited\": len(explored),\n",
    "        \"nodes_in_frontier\": len(frontier),\n",
    "        \"max_depth\": node.depth, # OBS: Si no se encontró la solución, este valor solo tiene sentido en breadth_first_search, en otros casos se debe ir llevando registro de cual fue la máxima profundidad\n",
    "        \"cost_total\": None,\n",
    "    }\n",
    "\n",
    "    return None, metrics, goal_node"
   ]
  },
  {
   "cell_type": "markdown",
   "id": "b95d84d2",
   "metadata": {
    "id": "b95d84d2"
   },
   "source": [
    "## Comparativa"
   ]
  },
  {
   "cell_type": "code",
   "execution_count": 106,
   "id": "378ce3a1",
   "metadata": {},
   "outputs": [
    {
     "name": "stdout",
     "output_type": "stream",
     "text": [
      "Algorithm      solution_found      nodes_explored    states_visited    nodes_in_frontier    max_depth    cost_total    Time [ms]    Memory [MB]\n",
      "-------------  ----------------  ----------------  ----------------  -------------------  -----------  ------------  -----------  -------------\n",
      "Breadth-first  True                          1351               233                  285           31         31.00       145.75           1.33\n",
      "Depth-first    True                           122               122                   63          121        121.00        11.29           0.20\n",
      "Greedy 1       True                           272               161                   32           38         38.00        35.23           0.21\n",
      "Greedy 2       True                           190               131                   43           34         34.00        20.69           0.20\n",
      "A* 1           True                           271               178                   23           31         31.00        27.71           0.19\n",
      "A* 2           True                           270               172                   20           31         31.00        30.40           0.18\n",
      "Dijkstra       True                           382               216                   45           31         31.00        41.22           0.27\n"
     ]
    }
   ],
   "source": [
    "import timeit\n",
    "import tracemalloc\n",
    "from tabulate import tabulate\n",
    "\n",
    "number_disks = 5\n",
    "iterations = 10\n",
    "\n",
    "# Algoritmos y heuristicas a comparar\n",
    "\n",
    "benchmark_configs = [\n",
    "    (\"Breadth-first\", lambda: breadth_first_search(number_disks)),\n",
    "    (\"Depth-first\", lambda: depth_first_search(number_disks)),\n",
    "    (\"Greedy 1\", lambda: greedy_search(number_disks, heuristic=heuristic_func1)),\n",
    "    (\"Greedy 2\", lambda: greedy_search(number_disks, heuristic=heuristic_func2)),\n",
    "    (\"A* 1\", lambda: astar_search(number_disks, heuristic=heuristic_func1)),\n",
    "    (\"A* 2\", lambda: astar_search(number_disks, heuristic=heuristic_func2)),\n",
    "    (\"Dijkstra\", lambda: dijkstra_search(number_disks))\n",
    "]\n",
    "\n",
    "results = []\n",
    "\n",
    "for name, func in benchmark_configs:\n",
    "\n",
    "    # Medición de tiempo\n",
    "    t = timeit.Timer(func)\n",
    "    avg_time = t.timeit(number=iterations) / iterations  # en segundos\n",
    "\n",
    "    # Medición de memoria\n",
    "    tracemalloc.start()\n",
    "    \n",
    "    # Ejecución de algoritmo\n",
    "    solution, metrics, _ = func()\n",
    "\n",
    "    _, peak_memory = tracemalloc.get_traced_memory()\n",
    "    tracemalloc.stop()\n",
    "    peak_memory /= 1024 * 1024  # convertir a MB\n",
    "\n",
    "    # Agregar fila de resultados\n",
    "    row = [name] + list(metrics.values()) + [avg_time * 1000, round(peak_memory, 2)]\n",
    "    results.append(row)\n",
    "\n",
    "# Encabezado de la tabla\n",
    "headers = [\"Algorithm\"] + list(metrics.keys()) + [\"Time [ms]\", \"Memory [MB]\"]\n",
    "\n",
    "# Imprime tabla\n",
    "print(tabulate(results, headers=headers, floatfmt=\".2f\"))"
   ]
  },
  {
   "cell_type": "markdown",
   "id": "1dfb0970",
   "metadata": {
    "id": "1dfb0970"
   },
   "source": [
    "### Simulacion"
   ]
  },
  {
   "cell_type": "code",
   "execution_count": 82,
   "id": "411aaaf4",
   "metadata": {
    "ExecuteTime": {
     "end_time": "2025-07-12T19:42:48.748366Z",
     "start_time": "2025-07-12T19:42:48.562108Z"
    },
    "id": "411aaaf4"
   },
   "outputs": [
    {
     "name": "stderr",
     "output_type": "stream",
     "text": [
      "Ya existe el subdirectorio o el archivo simulator.\n",
      "Error mientras se procesaba: simulator.\n"
     ]
    }
   ],
   "source": [
    "!mkdir -p simulator\n",
    "\n",
    "\n",
    "_, _, goal_node = breadth_first_search(number_disks=5)\n",
    "goal_node.generate_solution_for_simulator(initial_state_file=\"./simulator/initial_state.json\",\n",
    "                                          sequence_file=\"./simulator/sequence.json\")"
   ]
  },
  {
   "cell_type": "code",
   "execution_count": 83,
   "id": "da33a6d9",
   "metadata": {
    "ExecuteTime": {
     "end_time": "2025-07-12T19:42:48.886948Z",
     "start_time": "2025-07-12T19:42:48.758342Z"
    },
    "id": "da33a6d9"
   },
   "outputs": [
    {
     "name": "stderr",
     "output_type": "stream",
     "text": [
      "Ya existe el subdirectorio o el archivo -p.\n",
      "Error mientras se procesaba: -p.\n",
      "Ya existe el subdirectorio o el archivo simulator.\n",
      "Error mientras se procesaba: simulator.\n"
     ]
    }
   ],
   "source": [
    "!mkdir -p simulator\n",
    "\n",
    "\n",
    "_, _, goal_node = depth_first_search(number_disks=5)\n",
    "goal_node.generate_solution_for_simulator(initial_state_file=\"./simulator/initial_state.json\",\n",
    "                                          sequence_file=\"./simulator/sequence.json\")"
   ]
  },
  {
   "cell_type": "code",
   "execution_count": 84,
   "id": "7b9db0ca",
   "metadata": {
    "ExecuteTime": {
     "end_time": "2025-07-12T19:42:49.026501Z",
     "start_time": "2025-07-12T19:42:48.896193Z"
    },
    "id": "7b9db0ca"
   },
   "outputs": [
    {
     "name": "stderr",
     "output_type": "stream",
     "text": [
      "Ya existe el subdirectorio o el archivo -p.\n",
      "Error mientras se procesaba: -p.\n",
      "Ya existe el subdirectorio o el archivo simulator.\n",
      "Error mientras se procesaba: simulator.\n"
     ]
    }
   ],
   "source": [
    "!mkdir -p simulator\n",
    "\n",
    "\n",
    "_, _, goal_node = greedy_search(number_disks=5, heuristic=heuristic_func2)\n",
    "goal_node.generate_solution_for_simulator(initial_state_file=\"./simulator/initial_state.json\",\n",
    "                                          sequence_file=\"./simulator/sequence.json\")"
   ]
  },
  {
   "cell_type": "code",
   "execution_count": 85,
   "id": "ohJuOsCwPHww",
   "metadata": {
    "ExecuteTime": {
     "end_time": "2025-07-12T19:42:49.160971Z",
     "start_time": "2025-07-12T19:42:49.036834Z"
    },
    "id": "ohJuOsCwPHww"
   },
   "outputs": [
    {
     "name": "stderr",
     "output_type": "stream",
     "text": [
      "Ya existe el subdirectorio o el archivo -p.\n",
      "Error mientras se procesaba: -p.\n",
      "Ya existe el subdirectorio o el archivo simulator.\n",
      "Error mientras se procesaba: simulator.\n"
     ]
    }
   ],
   "source": [
    "!mkdir -p simulator\n",
    "goal_node.generate_solution_for_simulator(\n",
    "    initial_state_file=\"simulator/initial_state.json\",\n",
    "    sequence_file=\"simulator/sequence.json\"\n",
    ")\n"
   ]
  },
  {
   "cell_type": "code",
   "execution_count": 86,
   "id": "hUhEZvJ2_wal",
   "metadata": {
    "ExecuteTime": {
     "end_time": "2025-07-12T19:42:49.174292Z",
     "start_time": "2025-07-12T19:42:49.172034Z"
    },
    "id": "hUhEZvJ2_wal"
   },
   "outputs": [],
   "source": [
    "import json\n",
    "\n",
    "with open(\"simulator/sequence.json\") as f:\n",
    "    sequence = json.load(f)\n"
   ]
  },
  {
   "cell_type": "code",
   "execution_count": 87,
   "id": "-Ju4BZTiRqd2",
   "metadata": {
    "ExecuteTime": {
     "end_time": "2025-07-12T19:42:49.233841Z",
     "start_time": "2025-07-12T19:42:49.186920Z"
    },
    "colab": {
     "base_uri": "https://localhost:8080/",
     "height": 805
    },
    "id": "-Ju4BZTiRqd2",
    "outputId": "df08163b-f154-4be8-908f-46ce0532524b"
   },
   "outputs": [
    {
     "data": {
      "text/markdown": [
       "**Paso 1:** mover disco 1 de torre 1 a torre 3"
      ],
      "text/plain": [
       "<IPython.core.display.Markdown object>"
      ]
     },
     "metadata": {},
     "output_type": "display_data"
    },
    {
     "data": {
      "text/markdown": [
       "**Paso 2:** mover disco 2 de torre 1 a torre 2"
      ],
      "text/plain": [
       "<IPython.core.display.Markdown object>"
      ]
     },
     "metadata": {},
     "output_type": "display_data"
    },
    {
     "data": {
      "text/markdown": [
       "**Paso 3:** mover disco 1 de torre 3 a torre 2"
      ],
      "text/plain": [
       "<IPython.core.display.Markdown object>"
      ]
     },
     "metadata": {},
     "output_type": "display_data"
    },
    {
     "data": {
      "text/markdown": [
       "**Paso 4:** mover disco 3 de torre 1 a torre 3"
      ],
      "text/plain": [
       "<IPython.core.display.Markdown object>"
      ]
     },
     "metadata": {},
     "output_type": "display_data"
    },
    {
     "data": {
      "text/markdown": [
       "**Paso 5:** mover disco 1 de torre 2 a torre 1"
      ],
      "text/plain": [
       "<IPython.core.display.Markdown object>"
      ]
     },
     "metadata": {},
     "output_type": "display_data"
    },
    {
     "data": {
      "text/markdown": [
       "**Paso 6:** mover disco 2 de torre 2 a torre 3"
      ],
      "text/plain": [
       "<IPython.core.display.Markdown object>"
      ]
     },
     "metadata": {},
     "output_type": "display_data"
    },
    {
     "data": {
      "text/markdown": [
       "**Paso 7:** mover disco 1 de torre 1 a torre 3"
      ],
      "text/plain": [
       "<IPython.core.display.Markdown object>"
      ]
     },
     "metadata": {},
     "output_type": "display_data"
    },
    {
     "data": {
      "text/markdown": [
       "**Paso 8:** mover disco 4 de torre 1 a torre 2"
      ],
      "text/plain": [
       "<IPython.core.display.Markdown object>"
      ]
     },
     "metadata": {},
     "output_type": "display_data"
    },
    {
     "data": {
      "text/markdown": [
       "**Paso 9:** mover disco 1 de torre 3 a torre 2"
      ],
      "text/plain": [
       "<IPython.core.display.Markdown object>"
      ]
     },
     "metadata": {},
     "output_type": "display_data"
    },
    {
     "data": {
      "text/markdown": [
       "**Paso 10:** mover disco 2 de torre 3 a torre 1"
      ],
      "text/plain": [
       "<IPython.core.display.Markdown object>"
      ]
     },
     "metadata": {},
     "output_type": "display_data"
    },
    {
     "data": {
      "text/markdown": [
       "**Paso 11:** mover disco 1 de torre 2 a torre 1"
      ],
      "text/plain": [
       "<IPython.core.display.Markdown object>"
      ]
     },
     "metadata": {},
     "output_type": "display_data"
    },
    {
     "data": {
      "text/markdown": [
       "**Paso 12:** mover disco 3 de torre 3 a torre 2"
      ],
      "text/plain": [
       "<IPython.core.display.Markdown object>"
      ]
     },
     "metadata": {},
     "output_type": "display_data"
    },
    {
     "data": {
      "text/markdown": [
       "**Paso 13:** mover disco 1 de torre 1 a torre 3"
      ],
      "text/plain": [
       "<IPython.core.display.Markdown object>"
      ]
     },
     "metadata": {},
     "output_type": "display_data"
    },
    {
     "data": {
      "text/markdown": [
       "**Paso 14:** mover disco 2 de torre 1 a torre 2"
      ],
      "text/plain": [
       "<IPython.core.display.Markdown object>"
      ]
     },
     "metadata": {},
     "output_type": "display_data"
    },
    {
     "data": {
      "text/markdown": [
       "**Paso 15:** mover disco 1 de torre 3 a torre 2"
      ],
      "text/plain": [
       "<IPython.core.display.Markdown object>"
      ]
     },
     "metadata": {},
     "output_type": "display_data"
    },
    {
     "data": {
      "text/markdown": [
       "**Paso 16:** mover disco 5 de torre 1 a torre 3"
      ],
      "text/plain": [
       "<IPython.core.display.Markdown object>"
      ]
     },
     "metadata": {},
     "output_type": "display_data"
    },
    {
     "data": {
      "text/markdown": [
       "**Paso 17:** mover disco 1 de torre 2 a torre 1"
      ],
      "text/plain": [
       "<IPython.core.display.Markdown object>"
      ]
     },
     "metadata": {},
     "output_type": "display_data"
    },
    {
     "data": {
      "text/markdown": [
       "**Paso 18:** mover disco 2 de torre 2 a torre 3"
      ],
      "text/plain": [
       "<IPython.core.display.Markdown object>"
      ]
     },
     "metadata": {},
     "output_type": "display_data"
    },
    {
     "data": {
      "text/markdown": [
       "**Paso 19:** mover disco 1 de torre 1 a torre 3"
      ],
      "text/plain": [
       "<IPython.core.display.Markdown object>"
      ]
     },
     "metadata": {},
     "output_type": "display_data"
    },
    {
     "data": {
      "text/markdown": [
       "**Paso 20:** mover disco 3 de torre 2 a torre 1"
      ],
      "text/plain": [
       "<IPython.core.display.Markdown object>"
      ]
     },
     "metadata": {},
     "output_type": "display_data"
    },
    {
     "data": {
      "text/markdown": [
       "**Paso 21:** mover disco 1 de torre 3 a torre 1"
      ],
      "text/plain": [
       "<IPython.core.display.Markdown object>"
      ]
     },
     "metadata": {},
     "output_type": "display_data"
    },
    {
     "data": {
      "text/markdown": [
       "**Paso 22:** mover disco 1 de torre 1 a torre 2"
      ],
      "text/plain": [
       "<IPython.core.display.Markdown object>"
      ]
     },
     "metadata": {},
     "output_type": "display_data"
    },
    {
     "data": {
      "text/markdown": [
       "**Paso 23:** mover disco 2 de torre 3 a torre 1"
      ],
      "text/plain": [
       "<IPython.core.display.Markdown object>"
      ]
     },
     "metadata": {},
     "output_type": "display_data"
    },
    {
     "data": {
      "text/markdown": [
       "**Paso 24:** mover disco 1 de torre 2 a torre 1"
      ],
      "text/plain": [
       "<IPython.core.display.Markdown object>"
      ]
     },
     "metadata": {},
     "output_type": "display_data"
    },
    {
     "data": {
      "text/markdown": [
       "**Paso 25:** mover disco 4 de torre 2 a torre 3"
      ],
      "text/plain": [
       "<IPython.core.display.Markdown object>"
      ]
     },
     "metadata": {},
     "output_type": "display_data"
    },
    {
     "data": {
      "text/markdown": [
       "**Paso 26:** mover disco 1 de torre 1 a torre 2"
      ],
      "text/plain": [
       "<IPython.core.display.Markdown object>"
      ]
     },
     "metadata": {},
     "output_type": "display_data"
    },
    {
     "data": {
      "text/markdown": [
       "**Paso 27:** mover disco 2 de torre 1 a torre 3"
      ],
      "text/plain": [
       "<IPython.core.display.Markdown object>"
      ]
     },
     "metadata": {},
     "output_type": "display_data"
    },
    {
     "data": {
      "text/markdown": [
       "**Paso 28:** mover disco 1 de torre 2 a torre 1"
      ],
      "text/plain": [
       "<IPython.core.display.Markdown object>"
      ]
     },
     "metadata": {},
     "output_type": "display_data"
    },
    {
     "data": {
      "text/markdown": [
       "**Paso 29:** mover disco 2 de torre 3 a torre 2"
      ],
      "text/plain": [
       "<IPython.core.display.Markdown object>"
      ]
     },
     "metadata": {},
     "output_type": "display_data"
    },
    {
     "data": {
      "text/markdown": [
       "**Paso 30:** mover disco 1 de torre 1 a torre 2"
      ],
      "text/plain": [
       "<IPython.core.display.Markdown object>"
      ]
     },
     "metadata": {},
     "output_type": "display_data"
    },
    {
     "data": {
      "text/markdown": [
       "**Paso 31:** mover disco 3 de torre 1 a torre 3"
      ],
      "text/plain": [
       "<IPython.core.display.Markdown object>"
      ]
     },
     "metadata": {},
     "output_type": "display_data"
    },
    {
     "data": {
      "text/markdown": [
       "**Paso 32:** mover disco 1 de torre 2 a torre 1"
      ],
      "text/plain": [
       "<IPython.core.display.Markdown object>"
      ]
     },
     "metadata": {},
     "output_type": "display_data"
    },
    {
     "data": {
      "text/markdown": [
       "**Paso 33:** mover disco 2 de torre 2 a torre 3"
      ],
      "text/plain": [
       "<IPython.core.display.Markdown object>"
      ]
     },
     "metadata": {},
     "output_type": "display_data"
    },
    {
     "data": {
      "text/markdown": [
       "**Paso 34:** mover disco 1 de torre 1 a torre 3"
      ],
      "text/plain": [
       "<IPython.core.display.Markdown object>"
      ]
     },
     "metadata": {},
     "output_type": "display_data"
    }
   ],
   "source": [
    "from IPython.display import Markdown, display\n",
    "\n",
    "# Mostrar los movimientos paso a paso\n",
    "for i, step in enumerate(sequence, 1):\n",
    "    disk = step[\"disk\"]\n",
    "    origin = step[\"peg_start\"]\n",
    "    target = step[\"peg_end\"]\n",
    "    display(Markdown(f\"**Paso {i}:** mover disco {disk} de torre {origin} a torre {target}\"))\n"
   ]
  },
  {
   "cell_type": "markdown",
   "id": "OUJhRVAYE5MU",
   "metadata": {
    "id": "OUJhRVAYE5MU"
   },
   "source": [
    "# Ejecución/Simulación DFS"
   ]
  },
  {
   "cell_type": "code",
   "execution_count": 88,
   "id": "efe305d9a9d78877",
   "metadata": {},
   "outputs": [],
   "source": [
    "# Ejecutar el algoritmo\n",
    "node, metrics, goal_node = depth_first_search(5)"
   ]
  },
  {
   "cell_type": "markdown",
   "id": "3499c392dd155261",
   "metadata": {},
   "source": [
    "### Crear archivo `sequence_dfs.json` con los movimientos realizados"
   ]
  },
  {
   "cell_type": "code",
   "execution_count": 89,
   "id": "84d12c451f74fe3f",
   "metadata": {},
   "outputs": [],
   "source": [
    "save_sequence('sequence_dfs')"
   ]
  },
  {
   "cell_type": "code",
   "execution_count": 90,
   "id": "3fbe796edfc649ca",
   "metadata": {},
   "outputs": [],
   "source": [
    "save_initial_state('initial_state_dfs')"
   ]
  },
  {
   "cell_type": "markdown",
   "id": "e767def083c64a1c",
   "metadata": {},
   "source": [
    "### Simulación de los movimientos realizados por DFS"
   ]
  },
  {
   "cell_type": "code",
   "execution_count": 91,
   "id": "31be1478826bdd0",
   "metadata": {},
   "outputs": [
    {
     "data": {
      "image/png": "[encoded data removed]",
      "text/plain": [
       "<Figure size 800x400 with 1 Axes>"
      ]
     },
     "metadata": {},
     "output_type": "display_data"
    }
   ],
   "source": [
    "simulate_movements('sequence_dfs', 'initial_state_dfs')"
   ]
  },
  {
   "cell_type": "markdown",
   "id": "b5c3ad396f12e272",
   "metadata": {},
   "source": [
    "# Ejecución/Simulación STAR A*"
   ]
  },
  {
   "cell_type": "code",
   "execution_count": 92,
   "id": "bbe9fb14cb27356d",
   "metadata": {
    "ExecuteTime": {
     "end_time": "2025-07-12T18:46:51.674870Z",
     "start_time": "2025-07-12T18:46:51.639719Z"
    }
   },
   "outputs": [],
   "source": [
    "# Ejecutar el algoritmo\n",
    "node, metrics, goal_node = astar_search(5)  # Usamos 5 discos\n"
   ]
  },
  {
   "cell_type": "markdown",
   "id": "396a7874faba755",
   "metadata": {},
   "source": [
    "### Crear archivo `sequence_star_a.json` con los movimientos realizados"
   ]
  },
  {
   "cell_type": "code",
   "execution_count": 93,
   "id": "7FxNLtHTK5fn",
   "metadata": {
    "ExecuteTime": {
     "end_time": "2025-07-12T18:46:51.681493Z",
     "start_time": "2025-07-12T18:46:51.678723Z"
    },
    "id": "7FxNLtHTK5fn"
   },
   "outputs": [],
   "source": [
    "#Crear sequence_star_a\n",
    "save_sequence('sequence_star_a')\n"
   ]
  },
  {
   "cell_type": "code",
   "execution_count": 94,
   "id": "d9f5374150a43c72",
   "metadata": {
    "ExecuteTime": {
     "end_time": "2025-07-12T18:46:51.699247Z",
     "start_time": "2025-07-12T18:46:51.696755Z"
    }
   },
   "outputs": [],
   "source": [
    "#Crear initial_state_star_a\n",
    "save_initial_state('initial_state_star_a')\n"
   ]
  },
  {
   "cell_type": "markdown",
   "id": "41747b4de4ac2fc6",
   "metadata": {},
   "source": [
    "### Simulación de los movimientos realizados por STAR A*"
   ]
  },
  {
   "cell_type": "code",
   "execution_count": 95,
   "id": "75653b9535fb96e4",
   "metadata": {},
   "outputs": [
    {
     "data": {
      "image/png": "[encoded data removed]",
      "text/plain": [
       "<Figure size 800x400 with 1 Axes>"
      ]
     },
     "metadata": {},
     "output_type": "display_data"
    }
   ],
   "source": [
    "simulate_movements('sequence_star_a', 'initial_state_star_a')\n"
   ]
  },
  {
   "cell_type": "markdown",
   "id": "37ca1ff7ef2ef610",
   "metadata": {},
   "source": [
    "# Ejecución/Simulación Greedy Search\n"
   ]
  },
  {
   "cell_type": "code",
   "execution_count": 96,
   "id": "8d7689eb3d93cf0d",
   "metadata": {},
   "outputs": [],
   "source": [
    "#ejecutar el algoritmo\n",
    "node, metrics, goal_node = greedy_search(5)\n"
   ]
  },
  {
   "cell_type": "markdown",
   "id": "a1076022ea9f5a92",
   "metadata": {},
   "source": [
    "### Crear archivo `sequence_greedy.json` con los movimientos realizados"
   ]
  },
  {
   "cell_type": "code",
   "execution_count": 97,
   "id": "6cf5e7aaa89b8adb",
   "metadata": {},
   "outputs": [],
   "source": [
    "save_sequence('sequence_greedy')\n"
   ]
  },
  {
   "cell_type": "markdown",
   "id": "9676722eb0ef9198",
   "metadata": {},
   "source": [
    "### Crear archivo `initial_state_greedy.json` con el estado inicial"
   ]
  },
  {
   "cell_type": "code",
   "execution_count": 98,
   "id": "b838f293803d916d",
   "metadata": {},
   "outputs": [],
   "source": [
    "#crear el archivo initial_state_greedy\n",
    "save_initial_state('initial_state_greedy')\n"
   ]
  },
  {
   "cell_type": "markdown",
   "id": "e4efd5194632601a",
   "metadata": {},
   "source": [
    "### Simulación de los movimientos realizados por Greedy Search"
   ]
  },
  {
   "cell_type": "code",
   "execution_count": 99,
   "id": "552a1da7d8b70dc9",
   "metadata": {},
   "outputs": [
    {
     "data": {
      "image/png": "[encoded data removed]",
      "text/plain": [
       "<Figure size 800x400 with 1 Axes>"
      ]
     },
     "metadata": {},
     "output_type": "display_data"
    }
   ],
   "source": [
    "simulate_movements('sequence_greedy','initial_state_greedy')\n"
   ]
  },
  {
   "cell_type": "markdown",
   "id": "954e0abdae7d736",
   "metadata": {},
   "source": [
    "# Ejecución Dijkstra"
   ]
  },
  {
   "cell_type": "code",
   "execution_count": 100,
   "id": "7187406cdecd0d34",
   "metadata": {},
   "outputs": [],
   "source": [
    "#ejecutar el algoritmo\n",
    "node, metrics, goal_node = dijkstra_search(5)"
   ]
  },
  {
   "cell_type": "markdown",
   "id": "15da1a9274b4b2bf",
   "metadata": {},
   "source": [
    "### Crear archivo `sequence_dijkstra.json` con los movimientos realizados"
   ]
  },
  {
   "cell_type": "code",
   "execution_count": 101,
   "id": "e9a9c1f83875dafb",
   "metadata": {},
   "outputs": [],
   "source": [
    "save_sequence('sequence_dijkstra')"
   ]
  },
  {
   "cell_type": "markdown",
   "id": "753f6dbef8be580a",
   "metadata": {},
   "source": [
    "### Crear archivo `initial_state_dijkstra.json` con el estado inicial"
   ]
  },
  {
   "cell_type": "code",
   "execution_count": 102,
   "id": "5d3175846a3bb102",
   "metadata": {},
   "outputs": [],
   "source": [
    "save_initial_state('initial_state_dijkstra')"
   ]
  },
  {
   "cell_type": "markdown",
   "id": "1f4668d379c58667",
   "metadata": {},
   "source": [
    "### Simulación de los movimientos realizados por Dijkstra Search"
   ]
  },
  {
   "cell_type": "code",
   "execution_count": 103,
   "id": "2d520f332eb3f1ed",
   "metadata": {},
   "outputs": [
    {
     "data": {
      "image/png": "[encoded data removed]",
      "text/plain": [
       "<Figure size 800x400 with 1 Axes>"
      ]
     },
     "metadata": {},
     "output_type": "display_data"
    }
   ],
   "source": [
    "simulate_movements('sequence_dijkstra','initial_state_dijkstra')"
   ]
  },
  {
   "cell_type": "markdown",
   "id": "a62464c73e57a86",
   "metadata": {},
   "source": [
    "# Preguntas teóricas\n"
   ]
  },
  {
   "cell_type": "markdown",
   "id": "3df90d61b241b04a",
   "metadata": {},
   "source": [
    "## 1. ¿Cuáles son los PEAS de este problema?\n",
    "\n",
    "- **Performance (desempeño):**\n",
    "  - Alcanzar el estado objetivo (todos los discos apilados en orden decreciente en la varilla derecha).\n",
    "  - Minimizar la cantidad de movimientos.\n",
    "  - (Opcional) Minimizar el tiempo de ejecución.\n",
    "  - (Opcional) Minimizar el uso de memoria.\n",
    "- **Environment (entorno):**\n",
    "  - 5 discos de distinto tamaño están inicialmente apilados en orden decreciente sobre la varilla izquierda, donde en ningun momento un disco puede estar colocado sobre otro de menor tamaño.\n",
    "  - 3 varillas.\n",
    "- **Actuators (actuadores):**\n",
    "  - Mecanismo para mover discos: la única acción posible es trasladar el disco superior de una varilla a otra, especificando la varilla origen y la de destino.\n",
    "- **Sensores (sensores):**\n",
    "  - Lectura del estado actual de las varillas: acción de consultar en todo momento qué discos hay en cada varilla y en qué orden."
   ]
  },
  {
   "cell_type": "markdown",
   "id": "68a5a9a6473fa4dd",
   "metadata": {},
   "source": [
    "## 2. ¿Cuáles son las propiedades del entorno de trabajo?\n",
    "\n",
    "Las propiedades del entorno de trabajo en el contexto de la Torre de Hanoi son:\n",
    "- **Discreto:** el entorno tiene un número finito y contable de estados posibles. Cada acción cambia el estado de forma puntual y no existen transiciones continuas.\n",
    "- **Totalmente observable:** se conoce en todo momento la posición exacta de cada disco en cada varilla. No hay información oculta.\n",
    "- **Determinista:** cada acción tiene un resultado único y predecible. Mover un disco siempre produce el mismo cambio en el estado.\n",
    "- **Estático:** el entorno no cambia por sí solo. Solo se modifica cuando el agente realiza una acción.\n",
    "- **Secuencial:** la solución requiere una secuencia ordenada de movimientos donde cada acción depende de las anteriores para alcanzar el objetivo.\n",
    "- **Agente individual:** hay un único agente encargado de realizar todos los movimientos de los discos. No hay interacción con otros agentes."
   ]
  },
  {
   "cell_type": "markdown",
   "id": "1670439dfae95305",
   "metadata": {},
   "source": [
    "## 3. Defina los siguientes conceptos: Estado, Espacio de estados, Árbol de búsqueda, Nodo de búsqueda, Objetivo, Acción, Frontera\n",
    "\n",
    "- **Estado:** representa una configuración específica de los discos en las tres varillas en un momento dado.\n",
    "- **Espacio de estados:** es el conjunto de todos los estados posibles que se pueden alcanzar desde el estado inicial, aplicando las reglas del problema, es decir, mover un disco a la vez sin colocar un disco sobre uno de menor tamaño.\n",
    "- **Árbol de búsqueda:** representa todas las posibles secuencias de movimientos desde el estado inicial hasta el estado objetivo. Es decir, todas las secuencias posibles para pasar de tener los discos apilados en orden decreciente en la varilla izquierda a tenerlos en ese mismo orden en la varilla derecha.\n",
    "- **Nodo de búsqueda:** representa una configuración de los discos junto con el movimiento que se realizó para llegar a ella. Cada nodo guarda su estado anterior, lo que permite reconstruir la secuencia completa de movimientos desde el inicio.\n",
    "- **Objetivo:** lograr que todos los discos se encuentren apilados en orden de tamaño decreciente en la varilla derecha.\n",
    "- **Acción:** mover un único disco superior de una varilla a otra, sin colocarlo encima de un disco más pequeño que él.\n",
    "- **Frontera:** conjunto de configuraciones de discos generadas por movimientos válidos desde estados anteriores, pero que aún no fueron exploradas para seguir generando nuevos movimientos. Es decir, son los próximos posibles movimientos a considerar en la búsqueda de la solución."
   ]
  },
  {
   "cell_type": "markdown",
   "id": "c2260cf6a0bff729",
   "metadata": {},
   "source": [
    "## 4. Implementación del algoritmo\n",
    "\n",
    "Para la resolución de la Torre de Hanoi se implementaron los algoritmos de búsqueda Depth-First Search (DFS), Greedy y A*. (Referenciar al codigo)"
   ]
  },
  {
   "cell_type": "markdown",
   "id": "3da973b1a82709e4",
   "metadata": {},
   "source": [
    "## 5. ¿Cuál es la complejidad teórica en tiempo y memoria del algoritmo elegido?\n",
    "\n",
    "A continuación se detalla la complejidad temporal y espacial de los algoritmos implementados. Es importante mencionar que, para este análisis:\n",
    "- 𝑏 representa el factor de ramificación (cantidad de movimientos posibles por estado).\n",
    "- 𝑚 es la profundidad máxima del árbol de búsqueda.\n",
    "- 𝑑 es la profundidad de la solución más cercana.\n",
    "\n",
    "| Algoritmo | Complejidad temporal | Complejidad espacial |\n",
    "|-----------|----------------------|----------------------|\n",
    "| DFS       | $O(𝑏^𝑚)$ | $O(𝑏.𝑑)$ |\n",
    "| Greedy    | $O(𝑏^𝑚)$ | $O(𝑏^𝑚)$ |\n",
    "| A*        | $O(𝑏^𝑑)$ | $O(𝑏^𝑑)$ |\n",
    "\n",
    "- **DFS Depth-First Search:**\n",
    "  - Complejidad temporal:** en el peor caso explora todo el árbol hasta profundidad máxima m.\n",
    "  - **Complejidad espacial:** DFS guarda solo el camino actual en la pila de exploración, cuya profundidad máxima es d. En cada nivel pueden generarse hasta b nodos sucesores, por lo que en el peor caso la complejidad espacial es O(b·d).\n",
    "- **Greedy:**\n",
    "  - **Complejidad temporal:** puede expandir casi todo el espacio si la heurística es mala (peor caso), es decir hasta profundidad m.\n",
    "  - **Complejidad espacial:** necesita almacenar todos los nodos en frontera + los explorados, por lo tanto también es O(b^m).\n",
    "- **A*:**\n",
    "  - **Complejidad temporal:** igual a O(b^d) en el peor caso, si la heurística es muy mala (casi nula).\n",
    "  - **Complejidad espacial:** mantiene todos los nodos visitados y la frontera en memoria , así que también es O(b^d).\n",
    "\n",
    "Estas complejidades corresponden al peor caso. Sin embargo, los algoritmos de búsqueda informada como Greedy y A* pueden ser significativamente más eficientes en la práctica si la heurística utilizada es adecuada. Una heurística se considera buena si es admisible (nunca sobreestima el costo real al objetivo) y, en el caso de A*, también consistente (cumple con la desigualdad triangular)."
   ]
  },
  {
   "cell_type": "markdown",
   "id": "14957b3d04389296",
   "metadata": {},
   "source": [
    "## 6. A nivel de implementación, ¿cuánto tiempo y memoria utiliza el algoritmo?\n",
    "\n",
    "Referenciar a la tabla con las corridas realizadas."
   ]
  },
  {
   "cell_type": "markdown",
   "id": "1751b3d6379e249a",
   "metadata": {},
   "source": [
    "## 7 ¿Qué tan lejos está la solución encontrada por el algoritmo implementado de esa solución óptima?\n",
    "\n",
    "La solución óptima para la Torre de Hanoi con 5 discos es 31 movimientos.\n",
    "A partir de los resultados obtenidos en las ejecuciones, se observa lo siguiente:\n",
    "- **DFS:** encuentra la solución realizando en promedio 90 movimientos adicionales respecto de la solución óptima.\n",
    "- **Greedy:** encuentra la solución realizando en promedio 5 movimientos adicionales.\n",
    "- **A*:** encuentra la solución utilizando exactamente 31 movimientos, es decir, logra la solución óptima."
   ]
  }
 ],
 "metadata": {
  "colab": {
   "collapsed_sections": [
    "9dc3793379ee6eb9"
   ],
   "provenance": [],
   "toc_visible": true
  },
  "kernelspec": {
   "display_name": "base",
   "language": "python",
   "name": "python3"
  },
  "language_info": {
   "codemirror_mode": {
    "name": "ipython",
    "version": 3
   },
   "file_extension": ".py",
   "mimetype": "text/x-python",
   "name": "python",
   "nbconvert_exporter": "python",
   "pygments_lexer": "ipython3",
   "version": "3.12.7"
  }
 },
 "nbformat": 4,
 "nbformat_minor": 5
}
